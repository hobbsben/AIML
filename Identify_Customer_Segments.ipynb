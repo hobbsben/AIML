{
 "cells": [
  {
   "cell_type": "markdown",
   "metadata": {},
   "source": [
    "# Project: Identify Customer Segments\n",
    "\n",
    "In this project, you will apply unsupervised learning techniques to identify segments of the population that form the core customer base for a mail-order sales company in Germany. These segments can then be used to direct marketing campaigns towards audiences that will have the highest expected rate of returns. The data that you will use has been provided by our partners at Bertelsmann Arvato Analytics, and represents a real-life data science task.\n",
    "\n",
    "This notebook will help you complete this task by providing a framework within which you will perform your analysis steps. In each step of the project, you will see some text describing the subtask that you will perform, followed by one or more code cells for you to complete your work. **Feel free to add additional code and markdown cells as you go along so that you can explore everything in precise chunks.** The code cells provided in the base template will outline only the major tasks, and will usually not be enough to cover all of the minor tasks that comprise it.\n",
    "\n",
    "It should be noted that while there will be precise guidelines on how you should handle certain tasks in the project, there will also be places where an exact specification is not provided. **There will be times in the project where you will need to make and justify your own decisions on how to treat the data.** These are places where there may not be only one way to handle the data. In real-life tasks, there may be many valid ways to approach an analysis task. One of the most important things you can do is clearly document your approach so that other scientists can understand the decisions you've made.\n",
    "\n",
    "At the end of most sections, there will be a Markdown cell labeled **Discussion**. In these cells, you will report your findings for the completed section, as well as document the decisions that you made in your approach to each subtask. **Your project will be evaluated not just on the code used to complete the tasks outlined, but also your communication about your observations and conclusions at each stage.**"
   ]
  },
  {
   "cell_type": "code",
   "execution_count": 1,
   "metadata": {},
   "outputs": [
    {
     "data": {
      "text/plain": [
       "'\\nImport note: The classroom currently uses sklearn version 0.19.\\nIf you need to use an imputer, it is available in sklearn.preprocessing.Imputer,\\ninstead of sklearn.impute as in newer versions of sklearn.\\n'"
      ]
     },
     "execution_count": 1,
     "metadata": {},
     "output_type": "execute_result"
    }
   ],
   "source": [
    "# import libraries here; add more as necessary\n",
    "import numpy as np\n",
    "import pandas as pd\n",
    "import matplotlib.pyplot as plt\n",
    "import seaborn as sns\n",
    "import math\n",
    "# additionals\n",
    "from sklearn.preprocessing import StandardScaler\n",
    "from sklearn.preprocessing import Imputer\n",
    "from sklearn.decomposition import PCA\n",
    "from sklearn.cluster import KMeans\n",
    "# magic word for producing visualizations in notebook\n",
    "%matplotlib inline\n",
    "\n",
    "'''\n",
    "Import note: The classroom currently uses sklearn version 0.19.\n",
    "If you need to use an imputer, it is available in sklearn.preprocessing.Imputer,\n",
    "instead of sklearn.impute as in newer versions of sklearn.\n",
    "'''"
   ]
  },
  {
   "cell_type": "markdown",
   "metadata": {},
   "source": [
    "### Step 0: Load the Data\n",
    "\n",
    "There are four files associated with this project (not including this one):\n",
    "\n",
    "- `Udacity_AZDIAS_Subset.csv`: Demographics data for the general population of Germany; 891211 persons (rows) x 85 features (columns).\n",
    "- `Udacity_CUSTOMERS_Subset.csv`: Demographics data for customers of a mail-order company; 191652 persons (rows) x 85 features (columns).\n",
    "- `Data_Dictionary.md`: Detailed information file about the features in the provided datasets.\n",
    "- `AZDIAS_Feature_Summary.csv`: Summary of feature attributes for demographics data; 85 features (rows) x 4 columns\n",
    "\n",
    "Each row of the demographics files represents a single person, but also includes information outside of individuals, including information about their household, building, and neighborhood. You will use this information to cluster the general population into groups with similar demographic properties. Then, you will see how the people in the customers dataset fit into those created clusters. The hope here is that certain clusters are over-represented in the customers data, as compared to the general population; those over-represented clusters will be assumed to be part of the core userbase. This information can then be used for further applications, such as targeting for a marketing campaign.\n",
    "\n",
    "To start off with, load in the demographics data for the general population into a pandas DataFrame, and do the same for the feature attributes summary. Note for all of the `.csv` data files in this project: they're semicolon (`;`) delimited, so you'll need an additional argument in your [`read_csv()`](https://pandas.pydata.org/pandas-docs/stable/generated/pandas.read_csv.html) call to read in the data properly. Also, considering the size of the main dataset, it may take some time for it to load completely.\n",
    "\n",
    "Once the dataset is loaded, it's recommended that you take a little bit of time just browsing the general structure of the dataset and feature summary file. You'll be getting deep into the innards of the cleaning in the first major step of the project, so gaining some general familiarity can help you get your bearings."
   ]
  },
  {
   "cell_type": "code",
   "execution_count": 2,
   "metadata": {},
   "outputs": [],
   "source": [
    "# Load in the general demographics data.\n",
    "azdias = pd.read_csv('Udacity_AZDIAS_Subset.csv',delimiter=';')\n",
    "\n",
    "# Load in the feature summary file.\n",
    "feat_info = pd.read_csv('AZDIAS_Feature_Summary.csv',delimiter=';')"
   ]
  },
  {
   "cell_type": "code",
   "execution_count": 3,
   "metadata": {},
   "outputs": [
    {
     "name": "stdout",
     "output_type": "stream",
     "text": [
      "general_pop # cols: 85\n",
      "general_pop # cols: 891221\n",
      "general_pop # cols: 4\n",
      "general_pop # cols: 85\n"
     ]
    }
   ],
   "source": [
    "# Check the structure of the data after it's loaded (e.g. print the number of\n",
    "# rows and columns, print the first few rows).\n",
    "print('general_pop # cols:',len(azdias.columns))\n",
    "print('general_pop # cols:',np.size(azdias,0))\n",
    "\n",
    "print('general_pop # cols:',len(feat_info.columns))\n",
    "print('general_pop # cols:',np.size(feat_info,0))\n",
    "\n"
   ]
  },
  {
   "cell_type": "markdown",
   "metadata": {},
   "source": [
    "> **Tip**: Add additional cells to keep everything in reasonably-sized chunks! Keyboard shortcut `esc --> a` (press escape to enter command mode, then press the 'A' key) adds a new cell before the active cell, and `esc --> b` adds a new cell after the active cell. If you need to convert an active cell to a markdown cell, use `esc --> m` and to convert to a code cell, use `esc --> y`. \n",
    "\n",
    "## Step 1: Preprocessing\n",
    "\n",
    "### Step 1.1: Assess Missing Data\n",
    "\n",
    "The feature summary file contains a summary of properties for each demographics data column. You will use this file to help you make cleaning decisions during this stage of the project. First of all, you should assess the demographics data in terms of missing data. Pay attention to the following points as you perform your analysis, and take notes on what you observe. Make sure that you fill in the **Discussion** cell with your findings and decisions at the end of each step that has one!\n",
    "\n",
    "#### Step 1.1.1: Convert Missing Value Codes to NaNs\n",
    "The fourth column of the feature attributes summary (loaded in above as `feat_info`) documents the codes from the data dictionary that indicate missing or unknown data. While the file encodes this as a list (e.g. `[-1,0]`), this will get read in as a string object. You'll need to do a little bit of parsing to make use of it to identify and clean the data. Convert data that matches a 'missing' or 'unknown' value code into a numpy NaN value. You might want to see how much data takes on a 'missing' or 'unknown' code, and how much data is naturally missing, as a point of interest.\n",
    "\n",
    "**As one more reminder, you are encouraged to add additional cells to break up your analysis into manageable chunks.**"
   ]
  },
  {
   "cell_type": "code",
   "execution_count": 5,
   "metadata": {},
   "outputs": [
    {
     "data": {
      "text/html": [
       "<div>\n",
       "<style scoped>\n",
       "    .dataframe tbody tr th:only-of-type {\n",
       "        vertical-align: middle;\n",
       "    }\n",
       "\n",
       "    .dataframe tbody tr th {\n",
       "        vertical-align: top;\n",
       "    }\n",
       "\n",
       "    .dataframe thead th {\n",
       "        text-align: right;\n",
       "    }\n",
       "</style>\n",
       "<table border=\"1\" class=\"dataframe\">\n",
       "  <thead>\n",
       "    <tr style=\"text-align: right;\">\n",
       "      <th></th>\n",
       "      <th>AGER_TYP</th>\n",
       "      <th>ALTERSKATEGORIE_GROB</th>\n",
       "      <th>ANREDE_KZ</th>\n",
       "      <th>CJT_GESAMTTYP</th>\n",
       "      <th>FINANZ_MINIMALIST</th>\n",
       "      <th>FINANZ_SPARER</th>\n",
       "      <th>FINANZ_VORSORGER</th>\n",
       "      <th>FINANZ_ANLEGER</th>\n",
       "      <th>FINANZ_UNAUFFAELLIGER</th>\n",
       "      <th>FINANZ_HAUSBAUER</th>\n",
       "      <th>...</th>\n",
       "      <th>PLZ8_ANTG1</th>\n",
       "      <th>PLZ8_ANTG2</th>\n",
       "      <th>PLZ8_ANTG3</th>\n",
       "      <th>PLZ8_ANTG4</th>\n",
       "      <th>PLZ8_BAUMAX</th>\n",
       "      <th>PLZ8_HHZ</th>\n",
       "      <th>PLZ8_GBZ</th>\n",
       "      <th>ARBEIT</th>\n",
       "      <th>ORTSGR_KLS9</th>\n",
       "      <th>RELAT_AB</th>\n",
       "    </tr>\n",
       "  </thead>\n",
       "  <tbody>\n",
       "    <tr>\n",
       "      <th>0</th>\n",
       "      <td>-1</td>\n",
       "      <td>2</td>\n",
       "      <td>1</td>\n",
       "      <td>2.0</td>\n",
       "      <td>3</td>\n",
       "      <td>4</td>\n",
       "      <td>3</td>\n",
       "      <td>5</td>\n",
       "      <td>5</td>\n",
       "      <td>3</td>\n",
       "      <td>...</td>\n",
       "      <td>NaN</td>\n",
       "      <td>NaN</td>\n",
       "      <td>NaN</td>\n",
       "      <td>NaN</td>\n",
       "      <td>NaN</td>\n",
       "      <td>NaN</td>\n",
       "      <td>NaN</td>\n",
       "      <td>NaN</td>\n",
       "      <td>NaN</td>\n",
       "      <td>NaN</td>\n",
       "    </tr>\n",
       "    <tr>\n",
       "      <th>1</th>\n",
       "      <td>-1</td>\n",
       "      <td>1</td>\n",
       "      <td>2</td>\n",
       "      <td>5.0</td>\n",
       "      <td>1</td>\n",
       "      <td>5</td>\n",
       "      <td>2</td>\n",
       "      <td>5</td>\n",
       "      <td>4</td>\n",
       "      <td>5</td>\n",
       "      <td>...</td>\n",
       "      <td>2.0</td>\n",
       "      <td>3.0</td>\n",
       "      <td>2.0</td>\n",
       "      <td>1.0</td>\n",
       "      <td>1.0</td>\n",
       "      <td>5.0</td>\n",
       "      <td>4.0</td>\n",
       "      <td>3.0</td>\n",
       "      <td>5.0</td>\n",
       "      <td>4.0</td>\n",
       "    </tr>\n",
       "    <tr>\n",
       "      <th>2</th>\n",
       "      <td>-1</td>\n",
       "      <td>3</td>\n",
       "      <td>2</td>\n",
       "      <td>3.0</td>\n",
       "      <td>1</td>\n",
       "      <td>4</td>\n",
       "      <td>1</td>\n",
       "      <td>2</td>\n",
       "      <td>3</td>\n",
       "      <td>5</td>\n",
       "      <td>...</td>\n",
       "      <td>3.0</td>\n",
       "      <td>3.0</td>\n",
       "      <td>1.0</td>\n",
       "      <td>0.0</td>\n",
       "      <td>1.0</td>\n",
       "      <td>4.0</td>\n",
       "      <td>4.0</td>\n",
       "      <td>3.0</td>\n",
       "      <td>5.0</td>\n",
       "      <td>2.0</td>\n",
       "    </tr>\n",
       "    <tr>\n",
       "      <th>3</th>\n",
       "      <td>2</td>\n",
       "      <td>4</td>\n",
       "      <td>2</td>\n",
       "      <td>2.0</td>\n",
       "      <td>4</td>\n",
       "      <td>2</td>\n",
       "      <td>5</td>\n",
       "      <td>2</td>\n",
       "      <td>1</td>\n",
       "      <td>2</td>\n",
       "      <td>...</td>\n",
       "      <td>2.0</td>\n",
       "      <td>2.0</td>\n",
       "      <td>2.0</td>\n",
       "      <td>0.0</td>\n",
       "      <td>1.0</td>\n",
       "      <td>3.0</td>\n",
       "      <td>4.0</td>\n",
       "      <td>2.0</td>\n",
       "      <td>3.0</td>\n",
       "      <td>3.0</td>\n",
       "    </tr>\n",
       "    <tr>\n",
       "      <th>4</th>\n",
       "      <td>-1</td>\n",
       "      <td>3</td>\n",
       "      <td>1</td>\n",
       "      <td>5.0</td>\n",
       "      <td>4</td>\n",
       "      <td>3</td>\n",
       "      <td>4</td>\n",
       "      <td>1</td>\n",
       "      <td>3</td>\n",
       "      <td>2</td>\n",
       "      <td>...</td>\n",
       "      <td>2.0</td>\n",
       "      <td>4.0</td>\n",
       "      <td>2.0</td>\n",
       "      <td>1.0</td>\n",
       "      <td>2.0</td>\n",
       "      <td>3.0</td>\n",
       "      <td>3.0</td>\n",
       "      <td>4.0</td>\n",
       "      <td>6.0</td>\n",
       "      <td>5.0</td>\n",
       "    </tr>\n",
       "  </tbody>\n",
       "</table>\n",
       "<p>5 rows × 85 columns</p>\n",
       "</div>"
      ],
      "text/plain": [
       "   AGER_TYP  ALTERSKATEGORIE_GROB  ANREDE_KZ  CJT_GESAMTTYP  \\\n",
       "0        -1                     2          1            2.0   \n",
       "1        -1                     1          2            5.0   \n",
       "2        -1                     3          2            3.0   \n",
       "3         2                     4          2            2.0   \n",
       "4        -1                     3          1            5.0   \n",
       "\n",
       "   FINANZ_MINIMALIST  FINANZ_SPARER  FINANZ_VORSORGER  FINANZ_ANLEGER  \\\n",
       "0                  3              4                 3               5   \n",
       "1                  1              5                 2               5   \n",
       "2                  1              4                 1               2   \n",
       "3                  4              2                 5               2   \n",
       "4                  4              3                 4               1   \n",
       "\n",
       "   FINANZ_UNAUFFAELLIGER  FINANZ_HAUSBAUER    ...     PLZ8_ANTG1  PLZ8_ANTG2  \\\n",
       "0                      5                 3    ...            NaN         NaN   \n",
       "1                      4                 5    ...            2.0         3.0   \n",
       "2                      3                 5    ...            3.0         3.0   \n",
       "3                      1                 2    ...            2.0         2.0   \n",
       "4                      3                 2    ...            2.0         4.0   \n",
       "\n",
       "   PLZ8_ANTG3  PLZ8_ANTG4  PLZ8_BAUMAX  PLZ8_HHZ  PLZ8_GBZ  ARBEIT  \\\n",
       "0         NaN         NaN          NaN       NaN       NaN     NaN   \n",
       "1         2.0         1.0          1.0       5.0       4.0     3.0   \n",
       "2         1.0         0.0          1.0       4.0       4.0     3.0   \n",
       "3         2.0         0.0          1.0       3.0       4.0     2.0   \n",
       "4         2.0         1.0          2.0       3.0       3.0     4.0   \n",
       "\n",
       "   ORTSGR_KLS9  RELAT_AB  \n",
       "0          NaN       NaN  \n",
       "1          5.0       4.0  \n",
       "2          5.0       2.0  \n",
       "3          3.0       3.0  \n",
       "4          6.0       5.0  \n",
       "\n",
       "[5 rows x 85 columns]"
      ]
     },
     "execution_count": 5,
     "metadata": {},
     "output_type": "execute_result"
    }
   ],
   "source": [
    "azdias.head()"
   ]
  },
  {
   "cell_type": "code",
   "execution_count": 4,
   "metadata": {},
   "outputs": [
    {
     "name": "stderr",
     "output_type": "stream",
     "text": [
      "/opt/conda/lib/python3.6/site-packages/pandas/core/generic.py:5890: SettingWithCopyWarning: \n",
      "A value is trying to be set on a copy of a slice from a DataFrame\n",
      "\n",
      "See the caveats in the documentation: http://pandas.pydata.org/pandas-docs/stable/indexing.html#indexing-view-versus-copy\n",
      "  self._update_inplace(new_data)\n"
     ]
    },
    {
     "data": {
      "text/plain": [
       "8373929"
      ]
     },
     "execution_count": 4,
     "metadata": {},
     "output_type": "execute_result"
    }
   ],
   "source": [
    "# Identify missing or unknown data values and convert them to NaNs.\n",
    "def string_to_list(strg):\n",
    "    new_list=[]\n",
    "    s_clean=strg[1:-1].split(',')\n",
    "    # The below line removes the '[]' and splits on ',', creating a list of strings\n",
    "   \n",
    "    for i in s_clean:\n",
    "        try:\n",
    "            new_list.append( int(i) )\n",
    "        except:\n",
    "                new_list.append( i )\n",
    "    \n",
    "    return( new_list )\n",
    "\n",
    "feat_info['NA_tags'] = feat_info['missing_or_unknown'].apply(string_to_list)\n",
    "att_index = feat_info.set_index('attribute') # set the \n",
    "\n",
    "na_azdias = azdias[:]\n",
    "for column in na_azdias.columns:\n",
    "    na_azdias[column].replace(att_index.loc[column].loc['NA_tags'],np.nan,inplace=True)\n",
    "na_azdias.isna().sum().sum()\n"
   ]
  },
  {
   "cell_type": "code",
   "execution_count": 7,
   "metadata": {},
   "outputs": [
    {
     "data": {
      "text/html": [
       "<div>\n",
       "<style scoped>\n",
       "    .dataframe tbody tr th:only-of-type {\n",
       "        vertical-align: middle;\n",
       "    }\n",
       "\n",
       "    .dataframe tbody tr th {\n",
       "        vertical-align: top;\n",
       "    }\n",
       "\n",
       "    .dataframe thead th {\n",
       "        text-align: right;\n",
       "    }\n",
       "</style>\n",
       "<table border=\"1\" class=\"dataframe\">\n",
       "  <thead>\n",
       "    <tr style=\"text-align: right;\">\n",
       "      <th></th>\n",
       "      <th>AGER_TYP</th>\n",
       "      <th>ALTERSKATEGORIE_GROB</th>\n",
       "      <th>ANREDE_KZ</th>\n",
       "      <th>CJT_GESAMTTYP</th>\n",
       "      <th>FINANZ_MINIMALIST</th>\n",
       "      <th>FINANZ_SPARER</th>\n",
       "      <th>FINANZ_VORSORGER</th>\n",
       "      <th>FINANZ_ANLEGER</th>\n",
       "      <th>FINANZ_UNAUFFAELLIGER</th>\n",
       "      <th>FINANZ_HAUSBAUER</th>\n",
       "      <th>...</th>\n",
       "      <th>PLZ8_ANTG1</th>\n",
       "      <th>PLZ8_ANTG2</th>\n",
       "      <th>PLZ8_ANTG3</th>\n",
       "      <th>PLZ8_ANTG4</th>\n",
       "      <th>PLZ8_BAUMAX</th>\n",
       "      <th>PLZ8_HHZ</th>\n",
       "      <th>PLZ8_GBZ</th>\n",
       "      <th>ARBEIT</th>\n",
       "      <th>ORTSGR_KLS9</th>\n",
       "      <th>RELAT_AB</th>\n",
       "    </tr>\n",
       "  </thead>\n",
       "  <tbody>\n",
       "    <tr>\n",
       "      <th>0</th>\n",
       "      <td>NaN</td>\n",
       "      <td>2.0</td>\n",
       "      <td>1</td>\n",
       "      <td>2.0</td>\n",
       "      <td>3</td>\n",
       "      <td>4</td>\n",
       "      <td>3</td>\n",
       "      <td>5</td>\n",
       "      <td>5</td>\n",
       "      <td>3</td>\n",
       "      <td>...</td>\n",
       "      <td>NaN</td>\n",
       "      <td>NaN</td>\n",
       "      <td>NaN</td>\n",
       "      <td>NaN</td>\n",
       "      <td>NaN</td>\n",
       "      <td>NaN</td>\n",
       "      <td>NaN</td>\n",
       "      <td>NaN</td>\n",
       "      <td>NaN</td>\n",
       "      <td>NaN</td>\n",
       "    </tr>\n",
       "    <tr>\n",
       "      <th>1</th>\n",
       "      <td>NaN</td>\n",
       "      <td>1.0</td>\n",
       "      <td>2</td>\n",
       "      <td>5.0</td>\n",
       "      <td>1</td>\n",
       "      <td>5</td>\n",
       "      <td>2</td>\n",
       "      <td>5</td>\n",
       "      <td>4</td>\n",
       "      <td>5</td>\n",
       "      <td>...</td>\n",
       "      <td>2.0</td>\n",
       "      <td>3.0</td>\n",
       "      <td>2.0</td>\n",
       "      <td>1.0</td>\n",
       "      <td>1.0</td>\n",
       "      <td>5.0</td>\n",
       "      <td>4.0</td>\n",
       "      <td>3.0</td>\n",
       "      <td>5.0</td>\n",
       "      <td>4.0</td>\n",
       "    </tr>\n",
       "    <tr>\n",
       "      <th>2</th>\n",
       "      <td>NaN</td>\n",
       "      <td>3.0</td>\n",
       "      <td>2</td>\n",
       "      <td>3.0</td>\n",
       "      <td>1</td>\n",
       "      <td>4</td>\n",
       "      <td>1</td>\n",
       "      <td>2</td>\n",
       "      <td>3</td>\n",
       "      <td>5</td>\n",
       "      <td>...</td>\n",
       "      <td>3.0</td>\n",
       "      <td>3.0</td>\n",
       "      <td>1.0</td>\n",
       "      <td>0.0</td>\n",
       "      <td>1.0</td>\n",
       "      <td>4.0</td>\n",
       "      <td>4.0</td>\n",
       "      <td>3.0</td>\n",
       "      <td>5.0</td>\n",
       "      <td>2.0</td>\n",
       "    </tr>\n",
       "    <tr>\n",
       "      <th>3</th>\n",
       "      <td>2.0</td>\n",
       "      <td>4.0</td>\n",
       "      <td>2</td>\n",
       "      <td>2.0</td>\n",
       "      <td>4</td>\n",
       "      <td>2</td>\n",
       "      <td>5</td>\n",
       "      <td>2</td>\n",
       "      <td>1</td>\n",
       "      <td>2</td>\n",
       "      <td>...</td>\n",
       "      <td>2.0</td>\n",
       "      <td>2.0</td>\n",
       "      <td>2.0</td>\n",
       "      <td>0.0</td>\n",
       "      <td>1.0</td>\n",
       "      <td>3.0</td>\n",
       "      <td>4.0</td>\n",
       "      <td>2.0</td>\n",
       "      <td>3.0</td>\n",
       "      <td>3.0</td>\n",
       "    </tr>\n",
       "    <tr>\n",
       "      <th>4</th>\n",
       "      <td>NaN</td>\n",
       "      <td>3.0</td>\n",
       "      <td>1</td>\n",
       "      <td>5.0</td>\n",
       "      <td>4</td>\n",
       "      <td>3</td>\n",
       "      <td>4</td>\n",
       "      <td>1</td>\n",
       "      <td>3</td>\n",
       "      <td>2</td>\n",
       "      <td>...</td>\n",
       "      <td>2.0</td>\n",
       "      <td>4.0</td>\n",
       "      <td>2.0</td>\n",
       "      <td>1.0</td>\n",
       "      <td>2.0</td>\n",
       "      <td>3.0</td>\n",
       "      <td>3.0</td>\n",
       "      <td>4.0</td>\n",
       "      <td>6.0</td>\n",
       "      <td>5.0</td>\n",
       "    </tr>\n",
       "  </tbody>\n",
       "</table>\n",
       "<p>5 rows × 85 columns</p>\n",
       "</div>"
      ],
      "text/plain": [
       "   AGER_TYP  ALTERSKATEGORIE_GROB  ANREDE_KZ  CJT_GESAMTTYP  \\\n",
       "0       NaN                   2.0          1            2.0   \n",
       "1       NaN                   1.0          2            5.0   \n",
       "2       NaN                   3.0          2            3.0   \n",
       "3       2.0                   4.0          2            2.0   \n",
       "4       NaN                   3.0          1            5.0   \n",
       "\n",
       "   FINANZ_MINIMALIST  FINANZ_SPARER  FINANZ_VORSORGER  FINANZ_ANLEGER  \\\n",
       "0                  3              4                 3               5   \n",
       "1                  1              5                 2               5   \n",
       "2                  1              4                 1               2   \n",
       "3                  4              2                 5               2   \n",
       "4                  4              3                 4               1   \n",
       "\n",
       "   FINANZ_UNAUFFAELLIGER  FINANZ_HAUSBAUER    ...     PLZ8_ANTG1  PLZ8_ANTG2  \\\n",
       "0                      5                 3    ...            NaN         NaN   \n",
       "1                      4                 5    ...            2.0         3.0   \n",
       "2                      3                 5    ...            3.0         3.0   \n",
       "3                      1                 2    ...            2.0         2.0   \n",
       "4                      3                 2    ...            2.0         4.0   \n",
       "\n",
       "   PLZ8_ANTG3  PLZ8_ANTG4  PLZ8_BAUMAX  PLZ8_HHZ  PLZ8_GBZ  ARBEIT  \\\n",
       "0         NaN         NaN          NaN       NaN       NaN     NaN   \n",
       "1         2.0         1.0          1.0       5.0       4.0     3.0   \n",
       "2         1.0         0.0          1.0       4.0       4.0     3.0   \n",
       "3         2.0         0.0          1.0       3.0       4.0     2.0   \n",
       "4         2.0         1.0          2.0       3.0       3.0     4.0   \n",
       "\n",
       "   ORTSGR_KLS9  RELAT_AB  \n",
       "0          NaN       NaN  \n",
       "1          5.0       4.0  \n",
       "2          5.0       2.0  \n",
       "3          3.0       3.0  \n",
       "4          6.0       5.0  \n",
       "\n",
       "[5 rows x 85 columns]"
      ]
     },
     "execution_count": 7,
     "metadata": {},
     "output_type": "execute_result"
    }
   ],
   "source": [
    "na_azdias.head()"
   ]
  },
  {
   "cell_type": "code",
   "execution_count": 8,
   "metadata": {},
   "outputs": [
    {
     "name": "stdout",
     "output_type": "stream",
     "text": [
      "                     information_level         type missing_or_unknown  \\\n",
      "attribute                                                                \n",
      "AGER_TYP                        person  categorical             [-1,0]   \n",
      "ALTERSKATEGORIE_GROB            person      ordinal           [-1,0,9]   \n",
      "ANREDE_KZ                       person  categorical             [-1,0]   \n",
      "CJT_GESAMTTYP                   person  categorical                [0]   \n",
      "FINANZ_MINIMALIST               person      ordinal               [-1]   \n",
      "\n",
      "                         NA_tags  \n",
      "attribute                         \n",
      "AGER_TYP                 [-1, 0]  \n",
      "ALTERSKATEGORIE_GROB  [-1, 0, 9]  \n",
      "ANREDE_KZ                [-1, 0]  \n",
      "CJT_GESAMTTYP                [0]  \n",
      "FINANZ_MINIMALIST           [-1]  \n"
     ]
    }
   ],
   "source": [
    "print(att_index.head())"
   ]
  },
  {
   "cell_type": "code",
   "execution_count": 9,
   "metadata": {},
   "outputs": [
    {
     "data": {
      "text/html": [
       "<div>\n",
       "<style scoped>\n",
       "    .dataframe tbody tr th:only-of-type {\n",
       "        vertical-align: middle;\n",
       "    }\n",
       "\n",
       "    .dataframe tbody tr th {\n",
       "        vertical-align: top;\n",
       "    }\n",
       "\n",
       "    .dataframe thead th {\n",
       "        text-align: right;\n",
       "    }\n",
       "</style>\n",
       "<table border=\"1\" class=\"dataframe\">\n",
       "  <thead>\n",
       "    <tr style=\"text-align: right;\">\n",
       "      <th></th>\n",
       "      <th>attribute</th>\n",
       "      <th>information_level</th>\n",
       "      <th>type</th>\n",
       "      <th>missing_or_unknown</th>\n",
       "      <th>NA_tags</th>\n",
       "    </tr>\n",
       "  </thead>\n",
       "  <tbody>\n",
       "    <tr>\n",
       "      <th>0</th>\n",
       "      <td>AGER_TYP</td>\n",
       "      <td>person</td>\n",
       "      <td>categorical</td>\n",
       "      <td>[-1,0]</td>\n",
       "      <td>[-1, 0]</td>\n",
       "    </tr>\n",
       "    <tr>\n",
       "      <th>1</th>\n",
       "      <td>ALTERSKATEGORIE_GROB</td>\n",
       "      <td>person</td>\n",
       "      <td>ordinal</td>\n",
       "      <td>[-1,0,9]</td>\n",
       "      <td>[-1, 0, 9]</td>\n",
       "    </tr>\n",
       "    <tr>\n",
       "      <th>2</th>\n",
       "      <td>ANREDE_KZ</td>\n",
       "      <td>person</td>\n",
       "      <td>categorical</td>\n",
       "      <td>[-1,0]</td>\n",
       "      <td>[-1, 0]</td>\n",
       "    </tr>\n",
       "    <tr>\n",
       "      <th>3</th>\n",
       "      <td>CJT_GESAMTTYP</td>\n",
       "      <td>person</td>\n",
       "      <td>categorical</td>\n",
       "      <td>[0]</td>\n",
       "      <td>[0]</td>\n",
       "    </tr>\n",
       "    <tr>\n",
       "      <th>4</th>\n",
       "      <td>FINANZ_MINIMALIST</td>\n",
       "      <td>person</td>\n",
       "      <td>ordinal</td>\n",
       "      <td>[-1]</td>\n",
       "      <td>[-1]</td>\n",
       "    </tr>\n",
       "  </tbody>\n",
       "</table>\n",
       "</div>"
      ],
      "text/plain": [
       "              attribute information_level         type missing_or_unknown  \\\n",
       "0              AGER_TYP            person  categorical             [-1,0]   \n",
       "1  ALTERSKATEGORIE_GROB            person      ordinal           [-1,0,9]   \n",
       "2             ANREDE_KZ            person  categorical             [-1,0]   \n",
       "3         CJT_GESAMTTYP            person  categorical                [0]   \n",
       "4     FINANZ_MINIMALIST            person      ordinal               [-1]   \n",
       "\n",
       "      NA_tags  \n",
       "0     [-1, 0]  \n",
       "1  [-1, 0, 9]  \n",
       "2     [-1, 0]  \n",
       "3         [0]  \n",
       "4        [-1]  "
      ]
     },
     "execution_count": 9,
     "metadata": {},
     "output_type": "execute_result"
    }
   ],
   "source": [
    "feat_info.head()"
   ]
  },
  {
   "cell_type": "markdown",
   "metadata": {},
   "source": [
    "#### Step 1.1.2: Assess Missing Data in Each Column\n",
    "\n",
    "How much missing data is present in each column? There are a few columns that are outliers in terms of the proportion of values that are missing. You will want to use matplotlib's [`hist()`](https://matplotlib.org/api/_as_gen/matplotlib.pyplot.hist.html) function to visualize the distribution of missing value counts to find these columns. Identify and document these columns. While some of these columns might have justifications for keeping or re-encoding the data, for this project you should just remove them from the dataframe. (Feel free to make remarks about these outlier columns in the discussion, however!)\n",
    "\n",
    "For the remaining features, are there any patterns in which columns have, or share, missing data?"
   ]
  },
  {
   "cell_type": "code",
   "execution_count": 5,
   "metadata": {},
   "outputs": [],
   "source": [
    "# Perform an assessment of how much missing data there is in each column of the\n",
    "# dataset.\n",
    "\n",
    "num_nas_azdias = na_azdias.isna().sum().reset_index()\n",
    "\n"
   ]
  },
  {
   "cell_type": "code",
   "execution_count": 6,
   "metadata": {},
   "outputs": [
    {
     "data": {
      "text/plain": [
       "(array([ 39.,  40.,   0.,   1.,   1.,   1.,   1.,   1.,   0.,   1.]),\n",
       " array([      0. ,   88906.1,  177812.2,  266718.3,  355624.4,  444530.5,\n",
       "         533436.6,  622342.7,  711248.8,  800154.9,  889061. ]),\n",
       " <a list of 10 Patch objects>)"
      ]
     },
     "execution_count": 6,
     "metadata": {},
     "output_type": "execute_result"
    },
    {
     "data": {
      "image/png": "[encoded data removed]",
      "text/plain": [
       "<matplotlib.figure.Figure at 0x7f6cbc221ba8>"
      ]
     },
     "metadata": {
      "needs_background": "light"
     },
     "output_type": "display_data"
    }
   ],
   "source": [
    "# Investigate patterns in the amount of missing data in each column.\n",
    "big = num_nas_azdias[num_nas_azdias[0]>2000]\n",
    "plt.figure()\n",
    "plt.hist(num_nas_azdias[0])\n"
   ]
  },
  {
   "cell_type": "code",
   "execution_count": 6,
   "metadata": {},
   "outputs": [
    {
     "data": {
      "text/plain": [
       "<matplotlib.axes._subplots.AxesSubplot at 0x7f4699557550>"
      ]
     },
     "execution_count": 6,
     "metadata": {},
     "output_type": "execute_result"
    },
    {
     "data": {
      "image/png": "[encoded data removed]",
      "text/plain": [
       "<matplotlib.figure.Figure at 0x7f4699a30208>"
      ]
     },
     "metadata": {
      "needs_background": "light"
     },
     "output_type": "display_data"
    }
   ],
   "source": [
    "# Remove the outlier columns from the dataset. (You'll perform other data\n",
    "# engineering tasks such as re-encoding and imputation later.)\n",
    "new_azdias = num_nas_azdias[num_nas_azdias<160000].reset_index()\n",
    "new_azdias.sort_values(by=0, ascending=False,inplace=True)\n",
    "new_azdias[0].hist()"
   ]
  },
  {
   "cell_type": "code",
   "execution_count": 7,
   "metadata": {},
   "outputs": [
    {
     "name": "stdout",
     "output_type": "stream",
     "text": [
      "['AGER_TYP', 'GEBURTSJAHR', 'TITEL_KZ', 'ALTER_HH', 'KK_KUNDENTYP', 'KBA05_BAUMAX']\n"
     ]
    }
   ],
   "source": [
    "\n",
    "li_dropcol=[]\n",
    "for col in na_azdias:\n",
    "    if na_azdias[col].isna().sum()>160000:\n",
    "        li_dropcol.append(col)\n",
    "print(li_dropcol)"
   ]
  },
  {
   "cell_type": "code",
   "execution_count": 8,
   "metadata": {},
   "outputs": [],
   "source": [
    "new_azdias = na_azdias.drop(columns=li_dropcol)"
   ]
  },
  {
   "cell_type": "code",
   "execution_count": 15,
   "metadata": {},
   "outputs": [
    {
     "name": "stdout",
     "output_type": "stream",
     "text": [
      "        ALTERSKATEGORIE_GROB  ANREDE_KZ  CJT_GESAMTTYP  FINANZ_MINIMALIST  \\\n",
      "0                        2.0          1            2.0                  3   \n",
      "1                        1.0          2            5.0                  1   \n",
      "2                        3.0          2            3.0                  1   \n",
      "3                        4.0          2            2.0                  4   \n",
      "4                        3.0          1            5.0                  4   \n",
      "5                        1.0          2            2.0                  3   \n",
      "6                        2.0          2            5.0                  1   \n",
      "7                        1.0          1            3.0                  3   \n",
      "8                        3.0          1            3.0                  4   \n",
      "9                        3.0          2            4.0                  2   \n",
      "10                       3.0          2            1.0                  2   \n",
      "11                       2.0          1            6.0                  3   \n",
      "12                       3.0          1            6.0                  5   \n",
      "13                       1.0          2            5.0                  1   \n",
      "14                       3.0          1            6.0                  3   \n",
      "15                       4.0          2            4.0                  4   \n",
      "16                       1.0          2            1.0                  4   \n",
      "17                       2.0          1            6.0                  3   \n",
      "18                       2.0          2            6.0                  2   \n",
      "19                       3.0          1            3.0                  5   \n",
      "20                       2.0          2            4.0                  4   \n",
      "21                       2.0          1            3.0                  3   \n",
      "22                       1.0          1            4.0                  1   \n",
      "23                       3.0          1            3.0                  5   \n",
      "24                       3.0          2            6.0                  3   \n",
      "25                       1.0          1            3.0                  3   \n",
      "26                       3.0          1            3.0                  5   \n",
      "27                       3.0          1            4.0                  3   \n",
      "28                       3.0          1            2.0                  3   \n",
      "29                       4.0          2            1.0                  5   \n",
      "...                      ...        ...            ...                ...   \n",
      "891191                   4.0          2            1.0                  4   \n",
      "891192                   1.0          2            3.0                  1   \n",
      "891193                   4.0          1            3.0                  4   \n",
      "891194                   3.0          1            4.0                  4   \n",
      "891195                   4.0          2            6.0                  3   \n",
      "891196                   2.0          2            6.0                  1   \n",
      "891197                   3.0          2            1.0                  3   \n",
      "891198                   3.0          1            5.0                  2   \n",
      "891199                   2.0          1            3.0                  2   \n",
      "891200                   1.0          2            3.0                  1   \n",
      "891201                   3.0          1            3.0                  4   \n",
      "891202                   2.0          2            5.0                  1   \n",
      "891203                   4.0          2            1.0                  4   \n",
      "891204                   3.0          1            5.0                  4   \n",
      "891205                   4.0          1            2.0                  4   \n",
      "891206                   1.0          2            4.0                  3   \n",
      "891207                   3.0          2            1.0                  5   \n",
      "891208                   4.0          1            2.0                  5   \n",
      "891209                   1.0          2            5.0                  1   \n",
      "891210                   3.0          1            5.0                  3   \n",
      "891211                   3.0          1            2.0                  3   \n",
      "891212                   4.0          1            1.0                  3   \n",
      "891213                   4.0          2            5.0                  3   \n",
      "891214                   1.0          2            4.0                  1   \n",
      "891215                   2.0          2            6.0                  1   \n",
      "891216                   3.0          2            5.0                  1   \n",
      "891217                   2.0          1            4.0                  3   \n",
      "891218                   2.0          2            4.0                  2   \n",
      "891219                   1.0          1            3.0                  1   \n",
      "891220                   4.0          1            1.0                  4   \n",
      "\n",
      "        FINANZ_SPARER  FINANZ_VORSORGER  FINANZ_ANLEGER  \\\n",
      "0                   4                 3               5   \n",
      "1                   5                 2               5   \n",
      "2                   4                 1               2   \n",
      "3                   2                 5               2   \n",
      "4                   3                 4               1   \n",
      "5                   1                 5               2   \n",
      "6                   5                 1               5   \n",
      "7                   3                 4               1   \n",
      "8                   4                 2               4   \n",
      "9                   4                 2               3   \n",
      "10                  2                 5               3   \n",
      "11                  4                 3               5   \n",
      "12                  3                 4               2   \n",
      "13                  4                 3               5   \n",
      "14                  4                 3               5   \n",
      "15                  1                 5               1   \n",
      "16                  3                 1               4   \n",
      "17                  4                 3               5   \n",
      "18                  4                 1               5   \n",
      "19                  2                 3               1   \n",
      "20                  3                 1               4   \n",
      "21                  4                 1               2   \n",
      "22                  5                 3               5   \n",
      "23                  3                 3               2   \n",
      "24                  4                 3               5   \n",
      "25                  5                 3               5   \n",
      "26                  2                 4               2   \n",
      "27                  3                 4               1   \n",
      "28                  2                 4               3   \n",
      "29                  1                 5               2   \n",
      "...               ...               ...             ...   \n",
      "891191              1                 5               1   \n",
      "891192              5                 2               5   \n",
      "891193              1                 5               1   \n",
      "891194              3                 4               2   \n",
      "891195              1                 5               1   \n",
      "891196              5                 2               5   \n",
      "891197              2                 4               1   \n",
      "891198              5                 3               4   \n",
      "891199              5                 2               3   \n",
      "891200              5                 3               5   \n",
      "891201              2                 3               2   \n",
      "891202              4                 1               2   \n",
      "891203              1                 5               1   \n",
      "891204              3                 4               4   \n",
      "891205              2                 4               3   \n",
      "891206              4                 2               4   \n",
      "891207              1                 5               1   \n",
      "891208              2                 4               2   \n",
      "891209              4                 2               3   \n",
      "891210              3                 4               2   \n",
      "891211              2                 4               3   \n",
      "891212              1                 5               1   \n",
      "891213              3                 3               5   \n",
      "891214              5                 2               3   \n",
      "891215              5                 2               4   \n",
      "891216              4                 2               5   \n",
      "891217              3                 3               2   \n",
      "891218              4                 2               5   \n",
      "891219              5                 3               5   \n",
      "891220              2                 5               2   \n",
      "\n",
      "        FINANZ_UNAUFFAELLIGER  FINANZ_HAUSBAUER  FINANZTYP    ...     \\\n",
      "0                           5                 3          4    ...      \n",
      "1                           4                 5          1    ...      \n",
      "2                           3                 5          1    ...      \n",
      "3                           1                 2          6    ...      \n",
      "4                           3                 2          5    ...      \n",
      "5                           2                 5          2    ...      \n",
      "6                           4                 3          4    ...      \n",
      "7                           3                 2          5    ...      \n",
      "8                           2                 2          6    ...      \n",
      "9                           5                 4          1    ...      \n",
      "10                          1                 5          6    ...      \n",
      "11                          5                 3          4    ...      \n",
      "12                          4                 1          3    ...      \n",
      "13                          5                 2          1    ...      \n",
      "14                          5                 3          4    ...      \n",
      "15                          1                 4          2    ...      \n",
      "16                          5                 1          3    ...      \n",
      "17                          5                 3          4    ...      \n",
      "18                          4                 1          1    ...      \n",
      "19                          3                 1          5    ...      \n",
      "20                          5                 1          3    ...      \n",
      "21                          5                 1          3    ...      \n",
      "22                          5                 5          1    ...      \n",
      "23                          2                 1          6    ...      \n",
      "24                          5                 3          4    ...      \n",
      "25                          4                 3          4    ...      \n",
      "26                          3                 1          3    ...      \n",
      "27                          2                 2          5    ...      \n",
      "28                          3                 2          3    ...      \n",
      "29                          1                 3          6    ...      \n",
      "...                       ...               ...        ...    ...      \n",
      "891191                      1                 4          2    ...      \n",
      "891192                      3                 5          1    ...      \n",
      "891193                      2                 5          5    ...      \n",
      "891194                      3                 1          3    ...      \n",
      "891195                      1                 5          2    ...      \n",
      "891196                      4                 3          1    ...      \n",
      "891197                      3                 3          5    ...      \n",
      "891198                      5                 3          1    ...      \n",
      "891199                      3                 4          1    ...      \n",
      "891200                      5                 5          1    ...      \n",
      "891201                      2                 3          6    ...      \n",
      "891202                      5                 4          1    ...      \n",
      "891203                      3                 4          5    ...      \n",
      "891204                      2                 1          6    ...      \n",
      "891205                      3                 4          2    ...      \n",
      "891206                      4                 2          4    ...      \n",
      "891207                      2                 4          2    ...      \n",
      "891208                      3                 1          6    ...      \n",
      "891209                      4                 4          1    ...      \n",
      "891210                      2                 2          6    ...      \n",
      "891211                      3                 2          2    ...      \n",
      "891212                      1                 5          5    ...      \n",
      "891213                      3                 2          6    ...      \n",
      "891214                      3                 4          1    ...      \n",
      "891215                      5                 4          1    ...      \n",
      "891216                      4                 4          1    ...      \n",
      "891217                      2                 3          6    ...      \n",
      "891218                      4                 3          1    ...      \n",
      "891219                      5                 5          1    ...      \n",
      "891220                      1                 5          6    ...      \n",
      "\n",
      "        PLZ8_ANTG1  PLZ8_ANTG2  PLZ8_ANTG3  PLZ8_ANTG4  PLZ8_BAUMAX  PLZ8_HHZ  \\\n",
      "0              NaN         NaN         NaN         NaN          NaN       NaN   \n",
      "1              2.0         3.0         2.0         1.0          1.0       5.0   \n",
      "2              3.0         3.0         1.0         0.0          1.0       4.0   \n",
      "3              2.0         2.0         2.0         0.0          1.0       3.0   \n",
      "4              2.0         4.0         2.0         1.0          2.0       3.0   \n",
      "5              2.0         3.0         1.0         1.0          1.0       5.0   \n",
      "6              3.0         3.0         1.0         0.0          1.0       5.0   \n",
      "7              3.0         3.0         1.0         0.0          1.0       4.0   \n",
      "8              2.0         3.0         2.0         1.0          1.0       3.0   \n",
      "9              2.0         3.0         2.0         1.0          1.0       3.0   \n",
      "10             2.0         4.0         2.0         0.0          2.0       3.0   \n",
      "11             NaN         NaN         NaN         NaN          NaN       NaN   \n",
      "12             3.0         3.0         1.0         0.0          1.0       5.0   \n",
      "13             2.0         1.0         1.0         1.0          1.0       3.0   \n",
      "14             NaN         NaN         NaN         NaN          NaN       NaN   \n",
      "15             NaN         NaN         NaN         NaN          NaN       NaN   \n",
      "16             3.0         3.0         1.0         0.0          1.0       3.0   \n",
      "17             NaN         NaN         NaN         NaN          NaN       NaN   \n",
      "18             2.0         3.0         2.0         1.0          1.0       3.0   \n",
      "19             2.0         4.0         2.0         1.0          2.0       5.0   \n",
      "20             NaN         NaN         NaN         NaN          NaN       NaN   \n",
      "21             1.0         4.0         3.0         2.0          4.0       4.0   \n",
      "22             2.0         4.0         2.0         1.0          2.0       4.0   \n",
      "23             NaN         NaN         NaN         NaN          NaN       NaN   \n",
      "24             NaN         NaN         NaN         NaN          NaN       NaN   \n",
      "25             2.0         2.0         0.0         0.0          1.0       4.0   \n",
      "26             NaN         NaN         NaN         NaN          NaN       NaN   \n",
      "27             2.0         3.0         3.0         2.0          4.0       5.0   \n",
      "28             3.0         3.0         1.0         0.0          1.0       5.0   \n",
      "29             3.0         2.0         2.0         0.0          1.0       3.0   \n",
      "...            ...         ...         ...         ...          ...       ...   \n",
      "891191         3.0         3.0         1.0         0.0          1.0       4.0   \n",
      "891192         4.0         2.0         1.0         0.0          1.0       3.0   \n",
      "891193         2.0         4.0         1.0         0.0          2.0       2.0   \n",
      "891194         3.0         2.0         2.0         0.0          1.0       4.0   \n",
      "891195         2.0         3.0         2.0         1.0          1.0       4.0   \n",
      "891196         2.0         3.0         2.0         1.0          1.0       3.0   \n",
      "891197         2.0         3.0         2.0         1.0          1.0       4.0   \n",
      "891198         4.0         2.0         1.0         0.0          1.0       4.0   \n",
      "891199         1.0         4.0         3.0         2.0          5.0       5.0   \n",
      "891200         1.0         4.0         2.0         1.0          2.0       3.0   \n",
      "891201         1.0         4.0         3.0         1.0          3.0       4.0   \n",
      "891202         1.0         4.0         3.0         2.0          5.0       4.0   \n",
      "891203         2.0         3.0         2.0         1.0          1.0       3.0   \n",
      "891204         2.0         3.0         1.0         0.0          1.0       3.0   \n",
      "891205         1.0         4.0         3.0         1.0          3.0       3.0   \n",
      "891206         3.0         2.0         1.0         0.0          1.0       4.0   \n",
      "891207         2.0         3.0         2.0         2.0          4.0       4.0   \n",
      "891208         3.0         2.0         0.0         0.0          1.0       3.0   \n",
      "891209         1.0         4.0         2.0         1.0          5.0       5.0   \n",
      "891210         2.0         3.0         2.0         1.0          1.0       3.0   \n",
      "891211         1.0         4.0         2.0         0.0          2.0       3.0   \n",
      "891212         1.0         3.0         3.0         2.0          5.0       4.0   \n",
      "891213         2.0         4.0         2.0         1.0          2.0       5.0   \n",
      "891214         1.0         4.0         3.0         2.0          5.0       5.0   \n",
      "891215         2.0         4.0         2.0         1.0          2.0       4.0   \n",
      "891216         3.0         2.0         0.0         0.0          1.0       2.0   \n",
      "891217         1.0         3.0         3.0         2.0          4.0       5.0   \n",
      "891218         4.0         2.0         0.0         0.0          1.0       3.0   \n",
      "891219         1.0         4.0         3.0         1.0          5.0       1.0   \n",
      "891220         3.0         3.0         1.0         0.0          1.0       4.0   \n",
      "\n",
      "        PLZ8_GBZ  ARBEIT  ORTSGR_KLS9  RELAT_AB  \n",
      "0            NaN     NaN          NaN       NaN  \n",
      "1            4.0     3.0          5.0       4.0  \n",
      "2            4.0     3.0          5.0       2.0  \n",
      "3            4.0     2.0          3.0       3.0  \n",
      "4            3.0     4.0          6.0       5.0  \n",
      "5            5.0     2.0          3.0       3.0  \n",
      "6            5.0     4.0          6.0       3.0  \n",
      "7            4.0     2.0          5.0       2.0  \n",
      "8            3.0     2.0          4.0       3.0  \n",
      "9            3.0     2.0          3.0       1.0  \n",
      "10           3.0     4.0          6.0       5.0  \n",
      "11           NaN     NaN          NaN       NaN  \n",
      "12           5.0     3.0          6.0       4.0  \n",
      "13           3.0     3.0          6.0       4.0  \n",
      "14           NaN     NaN          NaN       NaN  \n",
      "15           NaN     4.0          8.0       5.0  \n",
      "16           4.0     1.0          2.0       1.0  \n",
      "17           NaN     NaN          NaN       NaN  \n",
      "18           3.0     3.0          4.0       3.0  \n",
      "19           4.0     4.0          6.0       3.0  \n",
      "20           NaN     3.0          4.0       1.0  \n",
      "21           3.0     5.0          7.0       5.0  \n",
      "22           3.0     4.0          5.0       5.0  \n",
      "23           NaN     3.0          6.0       2.0  \n",
      "24           NaN     NaN          NaN       NaN  \n",
      "25           5.0     3.0          2.0       5.0  \n",
      "26           NaN     4.0          3.0       5.0  \n",
      "27           3.0     4.0          7.0       5.0  \n",
      "28           5.0     3.0          4.0       1.0  \n",
      "29           4.0     2.0          4.0       3.0  \n",
      "...          ...     ...          ...       ...  \n",
      "891191       5.0     1.0          3.0       1.0  \n",
      "891192       3.0     3.0          5.0       1.0  \n",
      "891193       2.0     4.0          6.0       4.0  \n",
      "891194       4.0     4.0          8.0       5.0  \n",
      "891195       3.0     4.0          7.0       5.0  \n",
      "891196       3.0     3.0          4.0       5.0  \n",
      "891197       4.0     3.0          9.0       5.0  \n",
      "891198       5.0     3.0          9.0       5.0  \n",
      "891199       3.0     3.0          7.0       3.0  \n",
      "891200       3.0     4.0          6.0       5.0  \n",
      "891201       3.0     3.0          7.0       5.0  \n",
      "891202       2.0     4.0          8.0       5.0  \n",
      "891203       3.0     4.0          8.0       5.0  \n",
      "891204       4.0     4.0          7.0       3.0  \n",
      "891205       2.0     3.0          7.0       5.0  \n",
      "891206       5.0     3.0          4.0       3.0  \n",
      "891207       2.0     1.0          5.0       1.0  \n",
      "891208       3.0     4.0          2.0       5.0  \n",
      "891209       4.0     4.0          5.0       5.0  \n",
      "891210       3.0     3.0          9.0       5.0  \n",
      "891211       2.0     3.0          5.0       5.0  \n",
      "891212       1.0     3.0          9.0       5.0  \n",
      "891213       5.0     3.0          4.0       4.0  \n",
      "891214       2.0     3.0          7.0       3.0  \n",
      "891215       4.0     2.0          5.0       2.0  \n",
      "891216       3.0     NaN          NaN       NaN  \n",
      "891217       3.0     4.0          6.0       5.0  \n",
      "891218       4.0     2.0          2.0       3.0  \n",
      "891219       1.0     4.0          7.0       5.0  \n",
      "891220       4.0     3.0          4.0       5.0  \n",
      "\n",
      "[891221 rows x 79 columns]\n"
     ]
    }
   ],
   "source": [
    "print(new_azdias)"
   ]
  },
  {
   "cell_type": "markdown",
   "metadata": {},
   "source": [
    "#### Discussion 1.1.2: Assess Missing Data in Each Column\n",
    "\n",
    "seems to be three big groups: 1 group 0-200k, 200k - 700k, 800k+\n",
    "\n",
    "within the 0-200k group, theres a smaller group that can also be sorted down even further. Depends on what we want to analyze, and how 'clean' we want our data. the more ' clean' it is, the less data we actually have...."
   ]
  },
  {
   "cell_type": "markdown",
   "metadata": {},
   "source": [
    "#### Step 1.1.3: Assess Missing Data in Each Row\n",
    "\n",
    "Now, you'll perform a similar assessment for the rows of the dataset. How much data is missing in each row? As with the columns, you should see some groups of points that have a very different numbers of missing values. Divide the data into two subsets: one for data points that are above some threshold for missing values, and a second subset for points below that threshold.\n",
    "\n",
    "In order to know what to do with the outlier rows, we should see if the distribution of data values on columns that are not missing data (or are missing very little data) are similar or different between the two groups. Select at least five of these columns and compare the distribution of values.\n",
    "- You can use seaborn's [`countplot()`](https://seaborn.pydata.org/generated/seaborn.countplot.html) function to create a bar chart of code frequencies and matplotlib's [`subplot()`](https://matplotlib.org/api/_as_gen/matplotlib.pyplot.subplot.html) function to put bar charts for the two subplots side by side.\n",
    "- To reduce repeated code, you might want to write a function that can perform this comparison, taking as one of its arguments a column to be compared.\n",
    "\n",
    "Depending on what you observe in your comparison, this will have implications on how you approach your conclusions later in the analysis. If the distributions of non-missing features look similar between the data with many missing values and the data with few or no missing values, then we could argue that simply dropping those points from the analysis won't present a major issue. On the other hand, if the data with many missing values looks very different from the data with few or no missing values, then we should make a note on those data as special. We'll revisit these data later on. **Either way, you should continue your analysis for now using just the subset of the data with few or no missing values.**"
   ]
  },
  {
   "cell_type": "code",
   "execution_count": 9,
   "metadata": {},
   "outputs": [
    {
     "data": {
      "text/plain": [
       "0    43\n",
       "1     0\n",
       "2     0\n",
       "3     7\n",
       "4     0\n",
       "dtype: int64"
      ]
     },
     "execution_count": 9,
     "metadata": {},
     "output_type": "execute_result"
    },
    {
     "data": {
      "image/png": "[encoded data removed]",
      "text/plain": [
       "<matplotlib.figure.Figure at 0x7f46c808f588>"
      ]
     },
     "metadata": {
      "needs_background": "light"
     },
     "output_type": "display_data"
    }
   ],
   "source": [
    "# How much data is missing in each row of the dataset?\n",
    "\n",
    "num_nas_azdias_rows = new_azdias.isna().sum(axis = 1)\n",
    "# num_nas_azdias_rows.sort_values(by=0, ascending=False,inplace=True)\n",
    "\n",
    "\n",
    "num_nas_azdias_rows.hist()\n",
    "num_nas_azdias_rows.head()"
   ]
  },
  {
   "cell_type": "code",
   "execution_count": 10,
   "metadata": {},
   "outputs": [],
   "source": [
    "# Write code to divide the data into two subsets based on the number of missing\n",
    "# values in each row.\n",
    "na_azdias_rows_small = na_azdias[num_nas_azdias_rows <= 9]\n",
    "na_azdias_rows_big = na_azdias[num_nas_azdias_rows > 9]\n"
   ]
  },
  {
   "cell_type": "code",
   "execution_count": 11,
   "metadata": {},
   "outputs": [],
   "source": [
    "na_big_cols = na_azdias_rows_big.columns"
   ]
  },
  {
   "cell_type": "code",
   "execution_count": 13,
   "metadata": {},
   "outputs": [
    {
     "data": {
      "text/plain": [
       "<matplotlib.axes._subplots.AxesSubplot at 0x7f6c8e0d5b70>"
      ]
     },
     "execution_count": 13,
     "metadata": {},
     "output_type": "execute_result"
    },
    {
     "data": {
      "image/png": "[encoded data removed]",
      "text/plain": [
       "<matplotlib.figure.Figure at 0x7f6c8e1c8ba8>"
      ]
     },
     "metadata": {
      "needs_background": "light"
     },
     "output_type": "display_data"
    },
    {
     "data": {
      "image/png": "[encoded data removed]",
      "text/plain": [
       "<matplotlib.figure.Figure at 0x7f6c8e1c8f60>"
      ]
     },
     "metadata": {
      "needs_background": "light"
     },
     "output_type": "display_data"
    },
    {
     "data": {
      "image/png": "[encoded data removed]",
      "text/plain": [
       "<matplotlib.figure.Figure at 0x7f6c8e1af470>"
      ]
     },
     "metadata": {
      "needs_background": "light"
     },
     "output_type": "display_data"
    },
    {
     "data": {
      "image/png": "[encoded data removed]",
      "text/plain": [
       "<matplotlib.figure.Figure at 0x7f6c8e180f98>"
      ]
     },
     "metadata": {
      "needs_background": "light"
     },
     "output_type": "display_data"
    }
   ],
   "source": [
    "# Compare the distribution of values for at least five columns where there are\n",
    "# no or few missing values, between the two subsets.\n",
    "\n",
    "# test.hist()\n",
    "na_azdias_rows_big[na_big_cols[1]].hist()\n",
    "plt.figure()\n",
    "na_azdias_rows_small[na_big_cols[1]].hist()\n",
    "plt.figure()\n",
    "na_azdias_rows_big[na_big_cols[2]].hist()\n",
    "plt.figure()\n",
    "na_azdias_rows_small[na_big_cols[2]].hist()\n"
   ]
  },
  {
   "cell_type": "code",
   "execution_count": 20,
   "metadata": {},
   "outputs": [
    {
     "data": {
      "text/plain": [
       "<matplotlib.axes._subplots.AxesSubplot at 0x7faf6d25c9b0>"
      ]
     },
     "execution_count": 20,
     "metadata": {},
     "output_type": "execute_result"
    },
    {
     "data": {
      "image/png": "[encoded data removed]",
      "text/plain": [
       "<matplotlib.figure.Figure at 0x7faf6d354940>"
      ]
     },
     "metadata": {
      "needs_background": "light"
     },
     "output_type": "display_data"
    },
    {
     "data": {
      "image/png": "[encoded data removed]",
      "text/plain": [
       "<matplotlib.figure.Figure at 0x7faf6d34a208>"
      ]
     },
     "metadata": {
      "needs_background": "light"
     },
     "output_type": "display_data"
    },
    {
     "data": {
      "image/png": "[encoded data removed]",
      "text/plain": [
       "<matplotlib.figure.Figure at 0x7faf6d2bd198>"
      ]
     },
     "metadata": {
      "needs_background": "light"
     },
     "output_type": "display_data"
    },
    {
     "data": {
      "image/png": "[encoded data removed]",
      "text/plain": [
       "<matplotlib.figure.Figure at 0x7faf6d285cf8>"
      ]
     },
     "metadata": {
      "needs_background": "light"
     },
     "output_type": "display_data"
    }
   ],
   "source": [
    "plt.figure()\n",
    "na_azdias_rows_big[na_big_cols[3]].hist()\n",
    "plt.figure()\n",
    "na_azdias_rows_small[na_big_cols[3]].hist()\n",
    "plt.figure()\n",
    "na_azdias_rows_big[na_big_cols[4]].hist()\n",
    "plt.figure()\n",
    "na_azdias_rows_small[na_big_cols[4]].hist()"
   ]
  },
  {
   "cell_type": "markdown",
   "metadata": {},
   "source": [
    "#### Discussion 1.1.3: Assess Missing Data in Each Row\n",
    "\n",
    "average miss values / row  = 9, 2 groupings: 1) 0-30, 2) 30-50"
   ]
  },
  {
   "cell_type": "code",
   "execution_count": 12,
   "metadata": {},
   "outputs": [],
   "source": [
    "na_azdias_rows_final = new_azdias[num_nas_azdias_rows <=9]"
   ]
  },
  {
   "cell_type": "code",
   "execution_count": 15,
   "metadata": {},
   "outputs": [
    {
     "data": {
      "text/html": [
       "<div>\n",
       "<style scoped>\n",
       "    .dataframe tbody tr th:only-of-type {\n",
       "        vertical-align: middle;\n",
       "    }\n",
       "\n",
       "    .dataframe tbody tr th {\n",
       "        vertical-align: top;\n",
       "    }\n",
       "\n",
       "    .dataframe thead th {\n",
       "        text-align: right;\n",
       "    }\n",
       "</style>\n",
       "<table border=\"1\" class=\"dataframe\">\n",
       "  <thead>\n",
       "    <tr style=\"text-align: right;\">\n",
       "      <th></th>\n",
       "      <th>ALTERSKATEGORIE_GROB</th>\n",
       "      <th>ANREDE_KZ</th>\n",
       "      <th>CJT_GESAMTTYP</th>\n",
       "      <th>FINANZ_MINIMALIST</th>\n",
       "      <th>FINANZ_SPARER</th>\n",
       "      <th>FINANZ_VORSORGER</th>\n",
       "      <th>FINANZ_ANLEGER</th>\n",
       "      <th>FINANZ_UNAUFFAELLIGER</th>\n",
       "      <th>FINANZ_HAUSBAUER</th>\n",
       "      <th>FINANZTYP</th>\n",
       "      <th>...</th>\n",
       "      <th>PLZ8_ANTG1</th>\n",
       "      <th>PLZ8_ANTG2</th>\n",
       "      <th>PLZ8_ANTG3</th>\n",
       "      <th>PLZ8_ANTG4</th>\n",
       "      <th>PLZ8_BAUMAX</th>\n",
       "      <th>PLZ8_HHZ</th>\n",
       "      <th>PLZ8_GBZ</th>\n",
       "      <th>ARBEIT</th>\n",
       "      <th>ORTSGR_KLS9</th>\n",
       "      <th>RELAT_AB</th>\n",
       "    </tr>\n",
       "  </thead>\n",
       "  <tbody>\n",
       "    <tr>\n",
       "      <th>1</th>\n",
       "      <td>1.0</td>\n",
       "      <td>2</td>\n",
       "      <td>5.0</td>\n",
       "      <td>1</td>\n",
       "      <td>5</td>\n",
       "      <td>2</td>\n",
       "      <td>5</td>\n",
       "      <td>4</td>\n",
       "      <td>5</td>\n",
       "      <td>1</td>\n",
       "      <td>...</td>\n",
       "      <td>2.0</td>\n",
       "      <td>3.0</td>\n",
       "      <td>2.0</td>\n",
       "      <td>1.0</td>\n",
       "      <td>1.0</td>\n",
       "      <td>5.0</td>\n",
       "      <td>4.0</td>\n",
       "      <td>3.0</td>\n",
       "      <td>5.0</td>\n",
       "      <td>4.0</td>\n",
       "    </tr>\n",
       "    <tr>\n",
       "      <th>2</th>\n",
       "      <td>3.0</td>\n",
       "      <td>2</td>\n",
       "      <td>3.0</td>\n",
       "      <td>1</td>\n",
       "      <td>4</td>\n",
       "      <td>1</td>\n",
       "      <td>2</td>\n",
       "      <td>3</td>\n",
       "      <td>5</td>\n",
       "      <td>1</td>\n",
       "      <td>...</td>\n",
       "      <td>3.0</td>\n",
       "      <td>3.0</td>\n",
       "      <td>1.0</td>\n",
       "      <td>0.0</td>\n",
       "      <td>1.0</td>\n",
       "      <td>4.0</td>\n",
       "      <td>4.0</td>\n",
       "      <td>3.0</td>\n",
       "      <td>5.0</td>\n",
       "      <td>2.0</td>\n",
       "    </tr>\n",
       "    <tr>\n",
       "      <th>3</th>\n",
       "      <td>4.0</td>\n",
       "      <td>2</td>\n",
       "      <td>2.0</td>\n",
       "      <td>4</td>\n",
       "      <td>2</td>\n",
       "      <td>5</td>\n",
       "      <td>2</td>\n",
       "      <td>1</td>\n",
       "      <td>2</td>\n",
       "      <td>6</td>\n",
       "      <td>...</td>\n",
       "      <td>2.0</td>\n",
       "      <td>2.0</td>\n",
       "      <td>2.0</td>\n",
       "      <td>0.0</td>\n",
       "      <td>1.0</td>\n",
       "      <td>3.0</td>\n",
       "      <td>4.0</td>\n",
       "      <td>2.0</td>\n",
       "      <td>3.0</td>\n",
       "      <td>3.0</td>\n",
       "    </tr>\n",
       "    <tr>\n",
       "      <th>4</th>\n",
       "      <td>3.0</td>\n",
       "      <td>1</td>\n",
       "      <td>5.0</td>\n",
       "      <td>4</td>\n",
       "      <td>3</td>\n",
       "      <td>4</td>\n",
       "      <td>1</td>\n",
       "      <td>3</td>\n",
       "      <td>2</td>\n",
       "      <td>5</td>\n",
       "      <td>...</td>\n",
       "      <td>2.0</td>\n",
       "      <td>4.0</td>\n",
       "      <td>2.0</td>\n",
       "      <td>1.0</td>\n",
       "      <td>2.0</td>\n",
       "      <td>3.0</td>\n",
       "      <td>3.0</td>\n",
       "      <td>4.0</td>\n",
       "      <td>6.0</td>\n",
       "      <td>5.0</td>\n",
       "    </tr>\n",
       "    <tr>\n",
       "      <th>5</th>\n",
       "      <td>1.0</td>\n",
       "      <td>2</td>\n",
       "      <td>2.0</td>\n",
       "      <td>3</td>\n",
       "      <td>1</td>\n",
       "      <td>5</td>\n",
       "      <td>2</td>\n",
       "      <td>2</td>\n",
       "      <td>5</td>\n",
       "      <td>2</td>\n",
       "      <td>...</td>\n",
       "      <td>2.0</td>\n",
       "      <td>3.0</td>\n",
       "      <td>1.0</td>\n",
       "      <td>1.0</td>\n",
       "      <td>1.0</td>\n",
       "      <td>5.0</td>\n",
       "      <td>5.0</td>\n",
       "      <td>2.0</td>\n",
       "      <td>3.0</td>\n",
       "      <td>3.0</td>\n",
       "    </tr>\n",
       "  </tbody>\n",
       "</table>\n",
       "<p>5 rows × 79 columns</p>\n",
       "</div>"
      ],
      "text/plain": [
       "   ALTERSKATEGORIE_GROB  ANREDE_KZ  CJT_GESAMTTYP  FINANZ_MINIMALIST  \\\n",
       "1                   1.0          2            5.0                  1   \n",
       "2                   3.0          2            3.0                  1   \n",
       "3                   4.0          2            2.0                  4   \n",
       "4                   3.0          1            5.0                  4   \n",
       "5                   1.0          2            2.0                  3   \n",
       "\n",
       "   FINANZ_SPARER  FINANZ_VORSORGER  FINANZ_ANLEGER  FINANZ_UNAUFFAELLIGER  \\\n",
       "1              5                 2               5                      4   \n",
       "2              4                 1               2                      3   \n",
       "3              2                 5               2                      1   \n",
       "4              3                 4               1                      3   \n",
       "5              1                 5               2                      2   \n",
       "\n",
       "   FINANZ_HAUSBAUER  FINANZTYP    ...     PLZ8_ANTG1  PLZ8_ANTG2  PLZ8_ANTG3  \\\n",
       "1                 5          1    ...            2.0         3.0         2.0   \n",
       "2                 5          1    ...            3.0         3.0         1.0   \n",
       "3                 2          6    ...            2.0         2.0         2.0   \n",
       "4                 2          5    ...            2.0         4.0         2.0   \n",
       "5                 5          2    ...            2.0         3.0         1.0   \n",
       "\n",
       "   PLZ8_ANTG4  PLZ8_BAUMAX  PLZ8_HHZ  PLZ8_GBZ  ARBEIT  ORTSGR_KLS9  RELAT_AB  \n",
       "1         1.0          1.0       5.0       4.0     3.0          5.0       4.0  \n",
       "2         0.0          1.0       4.0       4.0     3.0          5.0       2.0  \n",
       "3         0.0          1.0       3.0       4.0     2.0          3.0       3.0  \n",
       "4         1.0          2.0       3.0       3.0     4.0          6.0       5.0  \n",
       "5         1.0          1.0       5.0       5.0     2.0          3.0       3.0  \n",
       "\n",
       "[5 rows x 79 columns]"
      ]
     },
     "execution_count": 15,
     "metadata": {},
     "output_type": "execute_result"
    }
   ],
   "source": [
    "na_azdias_rows_final.head()"
   ]
  },
  {
   "cell_type": "markdown",
   "metadata": {},
   "source": [
    "### Step 1.2: Select and Re-Encode Features\n",
    "\n",
    "Checking for missing data isn't the only way in which you can prepare a dataset for analysis. Since the unsupervised learning techniques to be used will only work on data that is encoded numerically, you need to make a few encoding changes or additional assumptions to be able to make progress. In addition, while almost all of the values in the dataset are encoded using numbers, not all of them represent numeric values. Check the third column of the feature summary (`feat_info`) for a summary of types of measurement.\n",
    "- For numeric and interval data, these features can be kept without changes.\n",
    "- Most of the variables in the dataset are ordinal in nature. While ordinal values may technically be non-linear in spacing, make the simplifying assumption that the ordinal variables can be treated as being interval in nature (that is, kept without any changes).\n",
    "- Special handling may be necessary for the remaining two variable types: categorical, and 'mixed'.\n",
    "\n",
    "In the first two parts of this sub-step, you will perform an investigation of the categorical and mixed-type features and make a decision on each of them, whether you will keep, drop, or re-encode each. Then, in the last part, you will create a new data frame with only the selected and engineered columns.\n",
    "\n",
    "Data wrangling is often the trickiest part of the data analysis process, and there's a lot of it to be done here. But stick with it: once you're done with this step, you'll be ready to get to the machine learning parts of the project!"
   ]
  },
  {
   "cell_type": "code",
   "execution_count": 23,
   "metadata": {},
   "outputs": [
    {
     "data": {
      "text/html": [
       "<div>\n",
       "<style scoped>\n",
       "    .dataframe tbody tr th:only-of-type {\n",
       "        vertical-align: middle;\n",
       "    }\n",
       "\n",
       "    .dataframe tbody tr th {\n",
       "        vertical-align: top;\n",
       "    }\n",
       "\n",
       "    .dataframe thead th {\n",
       "        text-align: right;\n",
       "    }\n",
       "</style>\n",
       "<table border=\"1\" class=\"dataframe\">\n",
       "  <thead>\n",
       "    <tr style=\"text-align: right;\">\n",
       "      <th></th>\n",
       "      <th>attribute</th>\n",
       "      <th>information_level</th>\n",
       "      <th>type</th>\n",
       "      <th>missing_or_unknown</th>\n",
       "      <th>NA_tags</th>\n",
       "    </tr>\n",
       "  </thead>\n",
       "  <tbody>\n",
       "    <tr>\n",
       "      <th>0</th>\n",
       "      <td>AGER_TYP</td>\n",
       "      <td>person</td>\n",
       "      <td>categorical</td>\n",
       "      <td>[-1,0]</td>\n",
       "      <td>[-1, 0]</td>\n",
       "    </tr>\n",
       "    <tr>\n",
       "      <th>1</th>\n",
       "      <td>ALTERSKATEGORIE_GROB</td>\n",
       "      <td>person</td>\n",
       "      <td>ordinal</td>\n",
       "      <td>[-1,0,9]</td>\n",
       "      <td>[-1, 0, 9]</td>\n",
       "    </tr>\n",
       "    <tr>\n",
       "      <th>2</th>\n",
       "      <td>ANREDE_KZ</td>\n",
       "      <td>person</td>\n",
       "      <td>categorical</td>\n",
       "      <td>[-1,0]</td>\n",
       "      <td>[-1, 0]</td>\n",
       "    </tr>\n",
       "    <tr>\n",
       "      <th>3</th>\n",
       "      <td>CJT_GESAMTTYP</td>\n",
       "      <td>person</td>\n",
       "      <td>categorical</td>\n",
       "      <td>[0]</td>\n",
       "      <td>[0]</td>\n",
       "    </tr>\n",
       "    <tr>\n",
       "      <th>4</th>\n",
       "      <td>FINANZ_MINIMALIST</td>\n",
       "      <td>person</td>\n",
       "      <td>ordinal</td>\n",
       "      <td>[-1]</td>\n",
       "      <td>[-1]</td>\n",
       "    </tr>\n",
       "  </tbody>\n",
       "</table>\n",
       "</div>"
      ],
      "text/plain": [
       "              attribute information_level         type missing_or_unknown  \\\n",
       "0              AGER_TYP            person  categorical             [-1,0]   \n",
       "1  ALTERSKATEGORIE_GROB            person      ordinal           [-1,0,9]   \n",
       "2             ANREDE_KZ            person  categorical             [-1,0]   \n",
       "3         CJT_GESAMTTYP            person  categorical                [0]   \n",
       "4     FINANZ_MINIMALIST            person      ordinal               [-1]   \n",
       "\n",
       "      NA_tags  \n",
       "0     [-1, 0]  \n",
       "1  [-1, 0, 9]  \n",
       "2     [-1, 0]  \n",
       "3         [0]  \n",
       "4        [-1]  "
      ]
     },
     "execution_count": 23,
     "metadata": {},
     "output_type": "execute_result"
    }
   ],
   "source": [
    "feat_info.head()"
   ]
  },
  {
   "cell_type": "code",
   "execution_count": 13,
   "metadata": {},
   "outputs": [
    {
     "data": {
      "text/plain": [
       "<matplotlib.axes._subplots.AxesSubplot at 0x7f469919c908>"
      ]
     },
     "execution_count": 13,
     "metadata": {},
     "output_type": "execute_result"
    },
    {
     "data": {
      "image/png": "[encoded data removed]",
      "text/plain": [
       "<matplotlib.figure.Figure at 0x7f46991e1278>"
      ]
     },
     "metadata": {
      "needs_background": "light"
     },
     "output_type": "display_data"
    }
   ],
   "source": [
    "# How many features are there of each data type?\n",
    "feat_info.type.hist()\n"
   ]
  },
  {
   "cell_type": "markdown",
   "metadata": {},
   "source": [
    "#### Step 1.2.1: Re-Encode Categorical Features\n",
    "\n",
    "For categorical data, you would ordinarily need to encode the levels as dummy variables. Depending on the number of categories, perform one of the following:\n",
    "- For binary (two-level) categoricals that take numeric values, you can keep them without needing to do anything.\n",
    "- There is one binary variable that takes on non-numeric values. For this one, you need to re-encode the values as numbers or create a dummy variable.\n",
    "- For multi-level categoricals (three or more values), you can choose to encode the values using multiple dummy variables (e.g. via [OneHotEncoder](http://scikit-learn.org/stable/modules/generated/sklearn.preprocessing.OneHotEncoder.html)), or (to keep things straightforward) just drop them from the analysis. As always, document your choices in the Discussion section."
   ]
  },
  {
   "cell_type": "code",
   "execution_count": 14,
   "metadata": {},
   "outputs": [
    {
     "name": "stdout",
     "output_type": "stream",
     "text": [
      "{'ANREDE_KZ': 2, 'CJT_GESAMTTYP': 6, 'FINANZTYP': 6, 'GFK_URLAUBERTYP': 12, 'GREEN_AVANTGARDE': 2, 'LP_FAMILIE_FEIN': 12, 'LP_FAMILIE_GROB': 6, 'LP_STATUS_FEIN': 10, 'LP_STATUS_GROB': 5, 'NATIONALITAET_KZ': 4, 'SHOPPER_TYP': 5, 'SOHO_KZ': 2, 'VERS_TYP': 3, 'ZABEOTYP': 6, 'GEBAEUDETYP': 7, 'OST_WEST_KZ': 2, 'CAMEO_DEUG_2015': 10, 'CAMEO_DEU_2015': 45}\n"
     ]
    }
   ],
   "source": [
    "# Assess categorical variables: which are binary, which are multi-level, and\n",
    "# which one needs to be re-encoded?\n",
    "category_total={}\n",
    "category_binary=[]\n",
    "category_multi=[]\n",
    "li_encode=[]\n",
    "\n",
    "for col in feat_info[feat_info['type']=='categorical'].attribute:\n",
    "    if col in na_azdias_rows_final.columns:\n",
    "        category_total[col] = np.size(na_azdias_rows_final[col].unique())\n",
    "\n",
    "        if category_total[col] ==2:\n",
    "            category_binary.append(col)\n",
    "            li_encode.append(col)\n",
    "        else: category_multi.append(col) \n",
    "        \n",
    "print(category_total)\n"
   ]
  },
  {
   "cell_type": "code",
   "execution_count": 15,
   "metadata": {},
   "outputs": [
    {
     "name": "stdout",
     "output_type": "stream",
     "text": [
      "['ANREDE_KZ', 'GREEN_AVANTGARDE', 'SOHO_KZ', 'OST_WEST_KZ']\n"
     ]
    }
   ],
   "source": [
    "print(li_encode)"
   ]
  },
  {
   "cell_type": "code",
   "execution_count": 16,
   "metadata": {
    "scrolled": true
   },
   "outputs": [
    {
     "name": "stdout",
     "output_type": "stream",
     "text": [
      "binary: ['ANREDE_KZ', 'GREEN_AVANTGARDE', 'SOHO_KZ', 'OST_WEST_KZ']\n",
      "multi: ['CJT_GESAMTTYP', 'FINANZTYP', 'GFK_URLAUBERTYP', 'LP_FAMILIE_FEIN', 'LP_FAMILIE_GROB', 'LP_STATUS_FEIN', 'LP_STATUS_GROB', 'NATIONALITAET_KZ', 'SHOPPER_TYP', 'VERS_TYP', 'ZABEOTYP', 'GEBAEUDETYP', 'CAMEO_DEUG_2015', 'CAMEO_DEU_2015'] \n",
      "\n",
      "\n",
      "\n"
     ]
    }
   ],
   "source": [
    "# Re-encode categorical variable(s) to be kept in the analysis.\n",
    "print('binary:', category_binary)\n",
    "print('multi:',category_multi,'\\n\\n\\n')\n"
   ]
  },
  {
   "cell_type": "code",
   "execution_count": 17,
   "metadata": {},
   "outputs": [
    {
     "data": {
      "text/plain": [
       "1    W\n",
       "2    W\n",
       "3    W\n",
       "4    W\n",
       "5    W\n",
       "Name: OST_WEST_KZ, dtype: object"
      ]
     },
     "execution_count": 17,
     "metadata": {},
     "output_type": "execute_result"
    }
   ],
   "source": [
    "\n",
    "na_azdias_rows_final[category_binary[3]].head()\n",
    "# print(category_binary[4])"
   ]
  },
  {
   "cell_type": "code",
   "execution_count": 18,
   "metadata": {},
   "outputs": [],
   "source": [
    "replace_values = {'W': 0, 'O': 1} \n",
    "azdias_cleaned = na_azdias_rows_final.replace({'OST_WEST_KZ':replace_values})"
   ]
  },
  {
   "cell_type": "code",
   "execution_count": 19,
   "metadata": {},
   "outputs": [
    {
     "data": {
      "text/plain": [
       "array([0, 1])"
      ]
     },
     "execution_count": 19,
     "metadata": {},
     "output_type": "execute_result"
    }
   ],
   "source": [
    "azdias_cleaned[category_binary[3]].unique()"
   ]
  },
  {
   "cell_type": "markdown",
   "metadata": {},
   "source": [
    "#### Discussion 1.2.1: Re-Encode Categorical Features\n",
    "\n",
    " dropping multi for simplisity, re-engineered ost_west_kz"
   ]
  },
  {
   "cell_type": "markdown",
   "metadata": {},
   "source": [
    "#### Step 1.2.2: Engineer Mixed-Type Features\n",
    "\n",
    "There are a handful of features that are marked as \"mixed\" in the feature summary that require special treatment in order to be included in the analysis. There are two in particular that deserve attention; the handling of the rest are up to your own choices:\n",
    "- \"PRAEGENDE_JUGENDJAHRE\" combines information on three dimensions: generation by decade, movement (mainstream vs. avantgarde), and nation (east vs. west). While there aren't enough levels to disentangle east from west, you should create two new variables to capture the other two dimensions: an interval-type variable for decade, and a binary variable for movement.\n",
    "- \"CAMEO_INTL_2015\" combines information on two axes: wealth and life stage. Break up the two-digit codes by their 'tens'-place and 'ones'-place digits into two new ordinal variables (which, for the purposes of this project, is equivalent to just treating them as their raw numeric values).\n",
    "- If you decide to keep or engineer new features around the other mixed-type features, make sure you note your steps in the Discussion section.\n",
    "\n",
    "Be sure to check `Data_Dictionary.md` for the details needed to finish these tasks."
   ]
  },
  {
   "cell_type": "code",
   "execution_count": 20,
   "metadata": {},
   "outputs": [
    {
     "name": "stdout",
     "output_type": "stream",
     "text": [
      "1    14.0\n",
      "2    15.0\n",
      "3     8.0\n",
      "4     8.0\n",
      "5     3.0\n",
      "Name: PRAEGENDE_JUGENDJAHRE, dtype: float64\n"
     ]
    }
   ],
   "source": [
    "# Investigate \"PRAEGENDE_JUGENDJAHRE\" and engineer two new variables.\n",
    "li_mixed=[]\n",
    "for col in feat_info[feat_info['type']=='mixed'].attribute:\n",
    "    if col in azdias_cleaned:\n",
    "\n",
    "        li_mixed.append(col)\n",
    "        if col == 'PRAEGENDE_JUGENDJAHRE':\n",
    "            li_encode.append(col)\n",
    "            print(azdias_cleaned[col].head())\n",
    "\n",
    "        "
   ]
  },
  {
   "cell_type": "code",
   "execution_count": 21,
   "metadata": {},
   "outputs": [
    {
     "name": "stdout",
     "output_type": "stream",
     "text": [
      "['ANREDE_KZ', 'GREEN_AVANTGARDE', 'SOHO_KZ', 'OST_WEST_KZ', 'PRAEGENDE_JUGENDJAHRE']\n"
     ]
    }
   ],
   "source": [
    "print(li_encode)"
   ]
  },
  {
   "cell_type": "code",
   "execution_count": 22,
   "metadata": {},
   "outputs": [],
   "source": [
    "# Investigate \"PRAEGENDE_JUGENDJAHRE\" and engineer two new variables. M is 1 and A is 0\n",
    "encoding = {\n",
    "    \n",
    "          0:[None,None],\n",
    "          1: [40,1],\n",
    "          2: [40,0],\n",
    "          3: [50,1],\n",
    "          4:[50,0],\n",
    "          5:[60,1],\n",
    "          6:[60,0],\n",
    "          7:[60,0],\n",
    "          8:[70,1],\n",
    "          9:[70,0],\n",
    "          10:[80,1],\n",
    "          11:[80,0],\n",
    "          12:[80,1],\n",
    "          13:[80,0],\n",
    "          14:[90,1],\n",
    "          15:[90,0]\n",
    "}\n",
    "\n",
    "azdias_values = azdias_cleaned[\"PRAEGENDE_JUGENDJAHRE\"].values\n",
    "decades=[]\n",
    "movement=[]\n",
    "for row in azdias_values:\n",
    "    if math.isnan(row):\n",
    "        decades.append(np.NaN)\n",
    "        movement.append(np.NaN)         \n",
    "    else:\n",
    "        decades.append(encoding[row][0])\n",
    "        movement.append(encoding[row][1])\n",
    "\n",
    "azdias_cleaned[\"decades\"] = decades\n",
    "azdias_cleaned[\"movement\"]= movement\n"
   ]
  },
  {
   "cell_type": "code",
   "execution_count": 23,
   "metadata": {},
   "outputs": [
    {
     "name": "stdout",
     "output_type": "stream",
     "text": [
      "1    51\n",
      "2    24\n",
      "3    12\n",
      "4    43\n",
      "5    54\n",
      "Name: CAMEO_INTL_2015, dtype: object\n"
     ]
    }
   ],
   "source": [
    "# Investigate \"CAMEO_INTL_2015\" and engineer two new variables.\n",
    "# Investigate \"PRAEGENDE_JUGENDJAHRE\" and engineer two new variables.\n",
    "for col in feat_info[feat_info['type']=='mixed'].attribute:\n",
    "    if col in azdias_cleaned.columns:\n",
    "        if col == 'CAMEO_INTL_2015':\n",
    "            li_encode.append(col)\n",
    "            print(na_azdias_rows_final[col].head())\n",
    "\n",
    "li_encode = list(set(li_encode))"
   ]
  },
  {
   "cell_type": "code",
   "execution_count": 24,
   "metadata": {},
   "outputs": [
    {
     "name": "stdout",
     "output_type": "stream",
     "text": [
      "['PRAEGENDE_JUGENDJAHRE', 'ANREDE_KZ', 'GREEN_AVANTGARDE', 'OST_WEST_KZ', 'SOHO_KZ', 'CAMEO_INTL_2015']\n"
     ]
    }
   ],
   "source": [
    "print(li_encode)"
   ]
  },
  {
   "cell_type": "code",
   "execution_count": 25,
   "metadata": {},
   "outputs": [],
   "source": [
    "azdias_cleaned[\"wealth\"]= azdias_cleaned[\"CAMEO_INTL_2015\"].str[0]\n",
    "azdias_cleaned[\"life\"]= azdias_cleaned[\"CAMEO_INTL_2015\"].str[1]\n"
   ]
  },
  {
   "cell_type": "code",
   "execution_count": 26,
   "metadata": {},
   "outputs": [
    {
     "data": {
      "text/plain": [
       "1    5\n",
       "2    2\n",
       "3    1\n",
       "4    4\n",
       "5    5\n",
       "Name: wealth, dtype: object"
      ]
     },
     "execution_count": 26,
     "metadata": {},
     "output_type": "execute_result"
    }
   ],
   "source": [
    "azdias_cleaned['wealth'].head()"
   ]
  },
  {
   "cell_type": "code",
   "execution_count": 27,
   "metadata": {},
   "outputs": [
    {
     "data": {
      "text/plain": [
       "['CJT_GESAMTTYP',\n",
       " 'FINANZTYP',\n",
       " 'GFK_URLAUBERTYP',\n",
       " 'LP_FAMILIE_FEIN',\n",
       " 'LP_FAMILIE_GROB',\n",
       " 'LP_STATUS_FEIN',\n",
       " 'LP_STATUS_GROB',\n",
       " 'NATIONALITAET_KZ',\n",
       " 'SHOPPER_TYP',\n",
       " 'VERS_TYP',\n",
       " 'ZABEOTYP',\n",
       " 'GEBAEUDETYP',\n",
       " 'CAMEO_DEUG_2015',\n",
       " 'CAMEO_DEU_2015']"
      ]
     },
     "execution_count": 27,
     "metadata": {},
     "output_type": "execute_result"
    }
   ],
   "source": [
    "category_multi"
   ]
  },
  {
   "cell_type": "code",
   "execution_count": 28,
   "metadata": {},
   "outputs": [
    {
     "data": {
      "text/plain": [
       "['LP_LEBENSPHASE_FEIN',\n",
       " 'LP_LEBENSPHASE_GROB',\n",
       " 'PRAEGENDE_JUGENDJAHRE',\n",
       " 'WOHNLAGE',\n",
       " 'CAMEO_INTL_2015',\n",
       " 'PLZ8_BAUMAX']"
      ]
     },
     "execution_count": 28,
     "metadata": {},
     "output_type": "execute_result"
    }
   ],
   "source": [
    "li_mixed"
   ]
  },
  {
   "cell_type": "code",
   "execution_count": 29,
   "metadata": {},
   "outputs": [],
   "source": [
    "azdias_cleaned = azdias_cleaned.drop(category_multi,axis = 1)\n",
    "azdias_cleaned = azdias_cleaned.drop(li_mixed,axis = 1)"
   ]
  },
  {
   "cell_type": "code",
   "execution_count": 40,
   "metadata": {},
   "outputs": [
    {
     "name": "stdout",
     "output_type": "stream",
     "text": [
      "   ALTERSKATEGORIE_GROB  ANREDE_KZ  FINANZ_MINIMALIST  FINANZ_SPARER  \\\n",
      "1                   1.0          2                  1              5   \n",
      "2                   3.0          2                  1              4   \n",
      "3                   4.0          2                  4              2   \n",
      "4                   3.0          1                  4              3   \n",
      "5                   1.0          2                  3              1   \n",
      "\n",
      "   FINANZ_VORSORGER  FINANZ_ANLEGER  FINANZ_UNAUFFAELLIGER  FINANZ_HAUSBAUER  \\\n",
      "1                 2               5                      4                 5   \n",
      "2                 1               2                      3                 5   \n",
      "3                 5               2                      1                 2   \n",
      "4                 4               1                      3                 2   \n",
      "5                 5               2                      2                 5   \n",
      "\n",
      "   GREEN_AVANTGARDE  HEALTH_TYP  ...   PLZ8_ANTG4  PLZ8_HHZ  PLZ8_GBZ  ARBEIT  \\\n",
      "1                 0         3.0  ...          1.0       5.0       4.0     3.0   \n",
      "2                 1         3.0  ...          0.0       4.0       4.0     3.0   \n",
      "3                 0         2.0  ...          0.0       3.0       4.0     2.0   \n",
      "4                 0         3.0  ...          1.0       3.0       3.0     4.0   \n",
      "5                 0         3.0  ...          1.0       5.0       5.0     2.0   \n",
      "\n",
      "   ORTSGR_KLS9  RELAT_AB  decades  movement  wealth  life  \n",
      "1          5.0       4.0     90.0       1.0       5     1  \n",
      "2          5.0       2.0     90.0       0.0       2     4  \n",
      "3          3.0       3.0     70.0       1.0       1     2  \n",
      "4          6.0       5.0     70.0       1.0       4     3  \n",
      "5          3.0       3.0     50.0       1.0       5     4  \n",
      "\n",
      "[5 rows x 63 columns]\n"
     ]
    }
   ],
   "source": [
    "print(azdias_cleaned.head())"
   ]
  },
  {
   "cell_type": "markdown",
   "metadata": {},
   "source": [
    "#### Discussion 1.2.2: Engineer Mixed-Type Features\n",
    "\n",
    "i dropped everything except for the stuff that i re-encoded personally."
   ]
  },
  {
   "cell_type": "markdown",
   "metadata": {},
   "source": [
    "#### Step 1.2.3: Complete Feature Selection\n",
    "\n",
    "In order to finish this step up, you need to make sure that your data frame now only has the columns that you want to keep. To summarize, the dataframe should consist of the following:\n",
    "- All numeric, interval, and ordinal type columns from the original dataset.\n",
    "- Binary categorical features (all numerically-encoded).\n",
    "- Engineered features from other multi-level categorical features and mixed features.\n",
    "\n",
    "Make sure that for any new columns that you have engineered, that you've excluded the original columns from the final dataset. Otherwise, their values will interfere with the analysis later on the project. For example, you should not keep \"PRAEGENDE_JUGENDJAHRE\", since its values won't be useful for the algorithm: only the values derived from it in the engineered features you created should be retained. As a reminder, your data should only be from **the subset with few or no missing values**."
   ]
  },
  {
   "cell_type": "code",
   "execution_count": 42,
   "metadata": {},
   "outputs": [],
   "source": [
    "# If there are other re-engineering tasks you need to perform, make sure you\n",
    "# take care of them here. (Dealing with missing data will come in step 2.1.)\n",
    "# azdias_cleaned = pd.get_dummies(azdias_cleaned , columns=azdias_cleaned.columns )\n",
    "\n"
   ]
  },
  {
   "cell_type": "code",
   "execution_count": 30,
   "metadata": {},
   "outputs": [
    {
     "data": {
      "text/html": [
       "<div>\n",
       "<style scoped>\n",
       "    .dataframe tbody tr th:only-of-type {\n",
       "        vertical-align: middle;\n",
       "    }\n",
       "\n",
       "    .dataframe tbody tr th {\n",
       "        vertical-align: top;\n",
       "    }\n",
       "\n",
       "    .dataframe thead th {\n",
       "        text-align: right;\n",
       "    }\n",
       "</style>\n",
       "<table border=\"1\" class=\"dataframe\">\n",
       "  <thead>\n",
       "    <tr style=\"text-align: right;\">\n",
       "      <th></th>\n",
       "      <th>ALTERSKATEGORIE_GROB</th>\n",
       "      <th>ANREDE_KZ</th>\n",
       "      <th>FINANZ_MINIMALIST</th>\n",
       "      <th>FINANZ_SPARER</th>\n",
       "      <th>FINANZ_VORSORGER</th>\n",
       "      <th>FINANZ_ANLEGER</th>\n",
       "      <th>FINANZ_UNAUFFAELLIGER</th>\n",
       "      <th>FINANZ_HAUSBAUER</th>\n",
       "      <th>GREEN_AVANTGARDE</th>\n",
       "      <th>HEALTH_TYP</th>\n",
       "      <th>...</th>\n",
       "      <th>PLZ8_ANTG4</th>\n",
       "      <th>PLZ8_HHZ</th>\n",
       "      <th>PLZ8_GBZ</th>\n",
       "      <th>ARBEIT</th>\n",
       "      <th>ORTSGR_KLS9</th>\n",
       "      <th>RELAT_AB</th>\n",
       "      <th>decades</th>\n",
       "      <th>movement</th>\n",
       "      <th>wealth</th>\n",
       "      <th>life</th>\n",
       "    </tr>\n",
       "  </thead>\n",
       "  <tbody>\n",
       "    <tr>\n",
       "      <th>1</th>\n",
       "      <td>1.0</td>\n",
       "      <td>2</td>\n",
       "      <td>1</td>\n",
       "      <td>5</td>\n",
       "      <td>2</td>\n",
       "      <td>5</td>\n",
       "      <td>4</td>\n",
       "      <td>5</td>\n",
       "      <td>0</td>\n",
       "      <td>3.0</td>\n",
       "      <td>...</td>\n",
       "      <td>1.0</td>\n",
       "      <td>5.0</td>\n",
       "      <td>4.0</td>\n",
       "      <td>3.0</td>\n",
       "      <td>5.0</td>\n",
       "      <td>4.0</td>\n",
       "      <td>90.0</td>\n",
       "      <td>1.0</td>\n",
       "      <td>5</td>\n",
       "      <td>1</td>\n",
       "    </tr>\n",
       "    <tr>\n",
       "      <th>2</th>\n",
       "      <td>3.0</td>\n",
       "      <td>2</td>\n",
       "      <td>1</td>\n",
       "      <td>4</td>\n",
       "      <td>1</td>\n",
       "      <td>2</td>\n",
       "      <td>3</td>\n",
       "      <td>5</td>\n",
       "      <td>1</td>\n",
       "      <td>3.0</td>\n",
       "      <td>...</td>\n",
       "      <td>0.0</td>\n",
       "      <td>4.0</td>\n",
       "      <td>4.0</td>\n",
       "      <td>3.0</td>\n",
       "      <td>5.0</td>\n",
       "      <td>2.0</td>\n",
       "      <td>90.0</td>\n",
       "      <td>0.0</td>\n",
       "      <td>2</td>\n",
       "      <td>4</td>\n",
       "    </tr>\n",
       "    <tr>\n",
       "      <th>3</th>\n",
       "      <td>4.0</td>\n",
       "      <td>2</td>\n",
       "      <td>4</td>\n",
       "      <td>2</td>\n",
       "      <td>5</td>\n",
       "      <td>2</td>\n",
       "      <td>1</td>\n",
       "      <td>2</td>\n",
       "      <td>0</td>\n",
       "      <td>2.0</td>\n",
       "      <td>...</td>\n",
       "      <td>0.0</td>\n",
       "      <td>3.0</td>\n",
       "      <td>4.0</td>\n",
       "      <td>2.0</td>\n",
       "      <td>3.0</td>\n",
       "      <td>3.0</td>\n",
       "      <td>70.0</td>\n",
       "      <td>1.0</td>\n",
       "      <td>1</td>\n",
       "      <td>2</td>\n",
       "    </tr>\n",
       "    <tr>\n",
       "      <th>4</th>\n",
       "      <td>3.0</td>\n",
       "      <td>1</td>\n",
       "      <td>4</td>\n",
       "      <td>3</td>\n",
       "      <td>4</td>\n",
       "      <td>1</td>\n",
       "      <td>3</td>\n",
       "      <td>2</td>\n",
       "      <td>0</td>\n",
       "      <td>3.0</td>\n",
       "      <td>...</td>\n",
       "      <td>1.0</td>\n",
       "      <td>3.0</td>\n",
       "      <td>3.0</td>\n",
       "      <td>4.0</td>\n",
       "      <td>6.0</td>\n",
       "      <td>5.0</td>\n",
       "      <td>70.0</td>\n",
       "      <td>1.0</td>\n",
       "      <td>4</td>\n",
       "      <td>3</td>\n",
       "    </tr>\n",
       "    <tr>\n",
       "      <th>5</th>\n",
       "      <td>1.0</td>\n",
       "      <td>2</td>\n",
       "      <td>3</td>\n",
       "      <td>1</td>\n",
       "      <td>5</td>\n",
       "      <td>2</td>\n",
       "      <td>2</td>\n",
       "      <td>5</td>\n",
       "      <td>0</td>\n",
       "      <td>3.0</td>\n",
       "      <td>...</td>\n",
       "      <td>1.0</td>\n",
       "      <td>5.0</td>\n",
       "      <td>5.0</td>\n",
       "      <td>2.0</td>\n",
       "      <td>3.0</td>\n",
       "      <td>3.0</td>\n",
       "      <td>50.0</td>\n",
       "      <td>1.0</td>\n",
       "      <td>5</td>\n",
       "      <td>4</td>\n",
       "    </tr>\n",
       "  </tbody>\n",
       "</table>\n",
       "<p>5 rows × 63 columns</p>\n",
       "</div>"
      ],
      "text/plain": [
       "   ALTERSKATEGORIE_GROB  ANREDE_KZ  FINANZ_MINIMALIST  FINANZ_SPARER  \\\n",
       "1                   1.0          2                  1              5   \n",
       "2                   3.0          2                  1              4   \n",
       "3                   4.0          2                  4              2   \n",
       "4                   3.0          1                  4              3   \n",
       "5                   1.0          2                  3              1   \n",
       "\n",
       "   FINANZ_VORSORGER  FINANZ_ANLEGER  FINANZ_UNAUFFAELLIGER  FINANZ_HAUSBAUER  \\\n",
       "1                 2               5                      4                 5   \n",
       "2                 1               2                      3                 5   \n",
       "3                 5               2                      1                 2   \n",
       "4                 4               1                      3                 2   \n",
       "5                 5               2                      2                 5   \n",
       "\n",
       "   GREEN_AVANTGARDE  HEALTH_TYP  ...   PLZ8_ANTG4  PLZ8_HHZ  PLZ8_GBZ  ARBEIT  \\\n",
       "1                 0         3.0  ...          1.0       5.0       4.0     3.0   \n",
       "2                 1         3.0  ...          0.0       4.0       4.0     3.0   \n",
       "3                 0         2.0  ...          0.0       3.0       4.0     2.0   \n",
       "4                 0         3.0  ...          1.0       3.0       3.0     4.0   \n",
       "5                 0         3.0  ...          1.0       5.0       5.0     2.0   \n",
       "\n",
       "   ORTSGR_KLS9  RELAT_AB  decades  movement  wealth  life  \n",
       "1          5.0       4.0     90.0       1.0       5     1  \n",
       "2          5.0       2.0     90.0       0.0       2     4  \n",
       "3          3.0       3.0     70.0       1.0       1     2  \n",
       "4          6.0       5.0     70.0       1.0       4     3  \n",
       "5          3.0       3.0     50.0       1.0       5     4  \n",
       "\n",
       "[5 rows x 63 columns]"
      ]
     },
     "execution_count": 30,
     "metadata": {},
     "output_type": "execute_result"
    }
   ],
   "source": [
    "# Do whatever you need to in order to ensure that the dataframe only contains\n",
    "# the columns that should be passed to the algorithm functions.\n",
    "azdias_cleaned.head()\n"
   ]
  },
  {
   "cell_type": "markdown",
   "metadata": {},
   "source": [
    "### Step 1.3: Create a Cleaning Function\n",
    "\n",
    "Even though you've finished cleaning up the general population demographics data, it's important to look ahead to the future and realize that you'll need to perform the same cleaning steps on the customer demographics data. In this substep, complete the function below to execute the main feature selection, encoding, and re-engineering steps you performed above. Then, when it comes to looking at the customer data in Step 3, you can just run this function on that DataFrame to get the trimmed dataset in a single step."
   ]
  },
  {
   "cell_type": "code",
   "execution_count": 31,
   "metadata": {},
   "outputs": [],
   "source": [
    "\n",
    "def clean(df):\n",
    "    na_azdias = df.copy()\n",
    "# ====================# Identify missing or unknown data values and convert them to NaNs.================    \n",
    "\n",
    "#     feat_info['NA_tags'] = feat_info['missing_or_unknown'].apply(string_to_list)\n",
    "\n",
    "    att_index = feat_info.set_index('attribute') # set the \n",
    "\n",
    "    for column in na_azdias.columns:\n",
    "        na_azdias[column].replace(att_index.loc[column].loc['NA_tags'],np.nan,inplace=True)\n",
    "    \n",
    "# ====================Remove na's from rows and cols================        \n",
    "    li_dropcol=[]\n",
    "    for col in na_azdias:\n",
    "        if na_azdias[col].isna().sum()>160000:\n",
    "            li_dropcol.append(col)\n",
    "    new_azdias = na_azdias.drop(columns=li_dropcol)\n",
    "    # hard coded this in here:\n",
    "    li_dropcol = ['AGER_TYP', 'GEBURTSJAHR', 'TITEL_KZ', 'ALTER_HH', 'KK_KUNDENTYP', 'KBA05_BAUMAX']\n",
    "    new_azdias = na_azdias.drop(columns=li_dropcol)\n",
    "    #end hard code\n",
    "    \n",
    "    num_nas_azdias_rows = new_azdias.isna().sum(axis = 1)\n",
    "\n",
    "    na_azdias_rows_final = new_azdias[num_nas_azdias_rows <=9]\n",
    "# ====================1111111111111================    \n",
    "    replace_values = {'W': 0, 'O': 1} \n",
    "    azdias_cleaned = na_azdias_rows_final.replace({'OST_WEST_KZ':replace_values})\n",
    "\n",
    "    \n",
    "# ====================1111111111111================    \n",
    "    category_total={}\n",
    "    category_binary=[]\n",
    "    category_multi=[]\n",
    "    li_encode=[]\n",
    "\n",
    "    for col in feat_info[feat_info['type']=='categorical'].attribute:\n",
    "        if col in na_azdias_rows_final.columns:\n",
    "            category_total[col] = np.size(na_azdias_rows_final[col].unique())\n",
    "\n",
    "            if category_total[col] ==2:\n",
    "                category_binary.append(col)\n",
    "                li_encode.append(col)\n",
    "            else: category_multi.append(col) \n",
    "        \n",
    "            \n",
    "        \n",
    "    li_mixed=[]\n",
    "    for col in feat_info[feat_info['type']=='mixed'].attribute:\n",
    "        if col in azdias_cleaned:\n",
    "\n",
    "            li_mixed.append(col)\n",
    "            if col == 'PRAEGENDE_JUGENDJAHRE':\n",
    "                li_encode.append(col)\n",
    "#                 print(azdias_cleaned[col].head())\n",
    "    for col in feat_info[feat_info['type']=='mixed'].attribute:\n",
    "        if col in azdias_cleaned.columns:\n",
    "            if col == 'CAMEO_INTL_2015':\n",
    "                li_encode.append(col)\n",
    "#                 print(na_azdias_rows_final[col].head())\n",
    "\n",
    "    li_encode = list(set(li_encode))\n",
    "            \n",
    "            \n",
    "# ====================1111111111111================    \n",
    "    encoding = {\n",
    "    \n",
    "          0:[None,None],\n",
    "          1: [40,1],\n",
    "          2: [40,0],\n",
    "          3: [50,1],\n",
    "          4:[50,0],\n",
    "          5:[60,1],\n",
    "          6:[60,0],\n",
    "          7:[60,0],\n",
    "          8:[70,1],\n",
    "          9:[70,0],\n",
    "          10:[80,1],\n",
    "          11:[80,0],\n",
    "          12:[80,1],\n",
    "          13:[80,0],\n",
    "          14:[90,1],\n",
    "          15:[90,0]\n",
    "}\n",
    "\n",
    "    azdias_values = azdias_cleaned[\"PRAEGENDE_JUGENDJAHRE\"].values\n",
    "    decades=[]\n",
    "    movement=[]\n",
    "    for row in azdias_values:\n",
    "        if math.isnan(row):\n",
    "            decades.append(np.NaN)\n",
    "            movement.append(np.NaN)         \n",
    "        else:\n",
    "            decades.append(encoding[row][0])\n",
    "            movement.append(encoding[row][1])\n",
    "# ====================1111111111111================    \n",
    "\n",
    "    azdias_cleaned[\"decades\"] = decades\n",
    "    azdias_cleaned[\"movement\"]= movement\n",
    "\n",
    "    azdias_cleaned[\"wealth\"]= azdias_cleaned[\"CAMEO_INTL_2015\"].str[0]\n",
    "    azdias_cleaned[\"life\"]= azdias_cleaned[\"CAMEO_INTL_2015\"].str[1]\n",
    "# ====================1111111111111================    \n",
    "    azdias_cleaned = azdias_cleaned.drop(category_multi,axis = 1)\n",
    "    azdias_cleaned = azdias_cleaned.drop(li_mixed,axis = 1)\n",
    "    \n",
    "    azdias_cleaned = pd.get_dummies(azdias_cleaned , columns=azdias_cleaned.columns)\n",
    "\n",
    "\n",
    "    \n",
    "    return df"
   ]
  },
  {
   "cell_type": "markdown",
   "metadata": {},
   "source": [
    "## Step 2: Feature Transformation\n",
    "\n",
    "### Step 2.1: Apply Feature Scaling\n",
    "\n",
    "Before we apply dimensionality reduction techniques to the data, we need to perform feature scaling so that the principal component vectors are not influenced by the natural differences in scale for features. Starting from this part of the project, you'll want to keep an eye on the [API reference page for sklearn](http://scikit-learn.org/stable/modules/classes.html) to help you navigate to all of the classes and functions that you'll need. In this substep, you'll need to check the following:\n",
    "\n",
    "- sklearn requires that data not have missing values in order for its estimators to work properly. So, before applying the scaler to your data, make sure that you've cleaned the DataFrame of the remaining missing values. This can be as simple as just removing all data points with missing data, or applying an [Imputer](https://scikit-learn.org/0.16/modules/generated/sklearn.preprocessing.Imputer.html) to replace all missing values. You might also try a more complicated procedure where you temporarily remove missing values in order to compute the scaling parameters before re-introducing those missing values and applying imputation. Think about how much missing data you have and what possible effects each approach might have on your analysis, and justify your decision in the discussion section below.\n",
    "- For the actual scaling function, a [StandardScaler](http://scikit-learn.org/stable/modules/generated/sklearn.preprocessing.StandardScaler.html) instance is suggested, scaling each feature to mean 0 and standard deviation 1.\n",
    "- For these classes, you can make use of the `.fit_transform()` method to both fit a procedure to the data as well as apply the transformation to the data at the same time. Don't forget to keep the fit sklearn objects handy, since you'll be applying them to the customer demographics data towards the end of the project."
   ]
  },
  {
   "cell_type": "code",
   "execution_count": 32,
   "metadata": {},
   "outputs": [
    {
     "data": {
      "text/plain": [
       "<matplotlib.axes._subplots.AxesSubplot at 0x7f46990f4400>"
      ]
     },
     "execution_count": 32,
     "metadata": {},
     "output_type": "execute_result"
    },
    {
     "data": {
      "image/png": "[encoded data removed]",
      "text/plain": [
       "<matplotlib.figure.Figure at 0x7f46991e4080>"
      ]
     },
     "metadata": {
      "needs_background": "light"
     },
     "output_type": "display_data"
    }
   ],
   "source": [
    "# If you've not yet cleaned the dataset of all NaN values, then investigate and\n",
    "# do that now.\n",
    "\n",
    "azdias_cleaned.isna().sum().hist()"
   ]
  },
  {
   "cell_type": "code",
   "execution_count": 114,
   "metadata": {},
   "outputs": [],
   "source": [
    "# Apply feature scaling to the general population demographics data.\n",
    "\n",
    "azdias_Cleaned = azdias_cleaned.copy()\n",
    "imp = Imputer()\n",
    "azdias_imp = imp.fit(azdias_Cleaned)\n",
    "azdias_scaled = imp.fit_transform(azdias_Cleaned)\n",
    "ss = StandardScaler()\n",
    "azdias_ss = ss.fit(azdias_scaled)\n",
    "scaled_azdias = ss.fit_transform(azdias_scaled)"
   ]
  },
  {
   "cell_type": "markdown",
   "metadata": {},
   "source": [
    "### Discussion 2.1: Apply Feature Scaling\n",
    "\n",
    "feature scaling reduces impact of biases, and increases impact of data with smaller values. I didnt need an imputer or to use .dropnan() because I already had no missing values after pre-processing.\n",
    "\n",
    "Ideally fit all data between 0-1."
   ]
  },
  {
   "cell_type": "markdown",
   "metadata": {},
   "source": [
    "### Step 2.2: Perform Dimensionality Reduction\n",
    "\n",
    "On your scaled data, you are now ready to apply dimensionality reduction techniques.\n",
    "\n",
    "- Use sklearn's [PCA](http://scikit-learn.org/stable/modules/generated/sklearn.decomposition.PCA.html) class to apply principal component analysis on the data, thus finding the vectors of maximal variance in the data. To start, you should not set any parameters (so all components are computed) or set a number of components that is at least half the number of features (so there's enough features to see the general trend in variability).\n",
    "- Check out the ratio of variance explained by each principal component as well as the cumulative variance explained. Try plotting the cumulative or sequential values using matplotlib's [`plot()`](https://matplotlib.org/api/_as_gen/matplotlib.pyplot.plot.html) function. Based on what you find, select a value for the number of transformed features you'll retain for the clustering part of the project.\n",
    "- Once you've made a choice for the number of components to keep, make sure you re-fit a PCA instance to perform the decided-on transformation."
   ]
  },
  {
   "cell_type": "code",
   "execution_count": 34,
   "metadata": {},
   "outputs": [],
   "source": [
    "# Apply PCA to the data.\n",
    "\n",
    "li_explained_variance = []\n",
    "li_pca = [PCA(n_components) for n_components in range(1,60,10)]\n",
    "for pca in li_pca:\n",
    "    \n",
    "    pca_azdias = pca.fit(scaled_azdias)\n",
    "    li_explained_variance.append(pca.explained_variance_ratio_)\n",
    "    \n"
   ]
  },
  {
   "cell_type": "code",
   "execution_count": 35,
   "metadata": {},
   "outputs": [
    {
     "data": {
      "text/plain": [
       "<Container object of 51 artists>"
      ]
     },
     "execution_count": 35,
     "metadata": {},
     "output_type": "execute_result"
    },
    {
     "data": {
      "image/png": "[encoded data removed]",
      "text/plain": [
       "<matplotlib.figure.Figure at 0x7f6c8e0639b0>"
      ]
     },
     "metadata": {
      "needs_background": "light"
     },
     "output_type": "display_data"
    }
   ],
   "source": [
    "plt.bar(range(np.size(li_explained_variance[5])),li_explained_variance[5])"
   ]
  },
  {
   "cell_type": "markdown",
   "metadata": {},
   "source": [
    "the above graph shows the indidual contribution of each component. The first 4 are very large in comparison to the others, with a big taper off. "
   ]
  },
  {
   "cell_type": "code",
   "execution_count": 47,
   "metadata": {},
   "outputs": [
    {
     "name": "stdout",
     "output_type": "stream",
     "text": [
      "[ 0.17200245  0.30888582  0.40497239  0.45861361  0.49699749  0.52932016\n",
      "  0.55732335  0.5824026   0.60440683  0.62569072  0.64610468  0.66522512\n",
      "  0.68322873  0.70087044  0.71754264  0.73364964  0.74951373  0.76441358\n",
      "  0.77769792  0.79093133  0.80328572  0.81526703  0.82714194  0.83810803\n",
      "  0.847906    0.85596631  0.86358948  0.87110278  0.87840917  0.88538183\n",
      "  0.89202409  0.89864745  0.90510359  0.91130877  0.91741503  0.92303873\n",
      "  0.92808201  0.93306035  0.93766546  0.94204447  0.9462194   0.95026205\n",
      "  0.95422224  0.95812811  0.96165961  0.964954    0.96818341  0.97124542\n",
      "  0.97414248  0.97688894  0.97952711]\n"
     ]
    }
   ],
   "source": [
    "print(li_explained_variance[5].cumsum())"
   ]
  },
  {
   "cell_type": "code",
   "execution_count": 48,
   "metadata": {},
   "outputs": [
    {
     "data": {
      "text/plain": [
       "<Container object of 51 artists>"
      ]
     },
     "execution_count": 48,
     "metadata": {},
     "output_type": "execute_result"
    },
    {
     "data": {
      "image/png": "[encoded data removed]",
      "text/plain": [
       "<matplotlib.figure.Figure at 0x7faf6ca5e7f0>"
      ]
     },
     "metadata": {
      "needs_background": "light"
     },
     "output_type": "display_data"
    }
   ],
   "source": [
    "# Investigate the variance accounted for by each principal component.\n",
    "\n",
    "plt.bar(range(np.size(li_explained_variance[5].cumsum())),li_explained_variance[5].cumsum())\n"
   ]
  },
  {
   "cell_type": "markdown",
   "metadata": {},
   "source": [
    "The above graph shows how the increasing  n_component impacts the overal strength of the pca. At about 30, you are at over 80%. From 30 - 51 you only get 20% increase. I have the option to reduce the complexity and go with a pca of 30, but reduce the strength of the model a bit."
   ]
  },
  {
   "cell_type": "code",
   "execution_count": 115,
   "metadata": {},
   "outputs": [],
   "source": [
    "# Re-apply PCA to the data while selecting for number of components to retain.\n",
    "\n",
    "pca = PCA(20)\n",
    "pca_fit = pca.fit(scaled_azdias)\n",
    "pca_azdias = pca.fit_transform(scaled_azdias)"
   ]
  },
  {
   "cell_type": "code",
   "execution_count": 68,
   "metadata": {},
   "outputs": [
    {
     "name": "stdout",
     "output_type": "stream",
     "text": [
      "[[  3.88105402e+00  -2.64743769e+00  -2.91029504e+00 ...,   3.17733010e-03\n",
      "    8.54313451e-01   2.33804524e-01]\n",
      " [ -9.21881680e-01   2.48311393e-01  -3.07569195e+00 ...,  -1.36466398e+00\n",
      "   -4.70252271e-01  -1.20418939e+00]\n",
      " [ -3.90659071e+00   1.28549620e+00  -7.57115415e-01 ...,  -7.84146795e-02\n",
      "   -1.15022459e-01   9.90638511e-01]\n",
      " ..., \n",
      " [ -8.66774663e-01  -3.30372148e+00  -2.95223223e+00 ...,   4.86766550e-01\n",
      "   -9.18384455e-03  -4.94638773e-01]\n",
      " [  5.86414318e+00  -3.35613724e+00   2.31634782e+00 ...,  -5.69090282e-01\n",
      "   -2.60956329e-01   1.33146452e-01]\n",
      " [ -6.91493905e-01   1.10358059e+00   3.10713855e+00 ...,   2.29878880e+00\n",
      "    1.32518960e-01  -9.39906088e-01]]\n"
     ]
    }
   ],
   "source": [
    "print(pca_azdias)"
   ]
  },
  {
   "cell_type": "code",
   "execution_count": 51,
   "metadata": {},
   "outputs": [
    {
     "data": {
      "text/plain": [
       "63"
      ]
     },
     "execution_count": 51,
     "metadata": {},
     "output_type": "execute_result"
    }
   ],
   "source": [
    "np.size(azdias_cleaned,axis =1)"
   ]
  },
  {
   "cell_type": "markdown",
   "metadata": {},
   "source": [
    "### Discussion 2.2: Perform Dimensionality Reduction\n",
    "\n",
    "retaining 60 pca components would cause the max cumsum of the explained variability. I have 63 total parameters, so 'reducing' down to 60 pca parameters makes sense that this would be the maximum. Good news as well because that means that most of our data is relevant. However, theres a big decrease in the slope after 40. I am goign to pick 40 because its a nice middle ground, with still a lot of relevancy. "
   ]
  },
  {
   "cell_type": "markdown",
   "metadata": {},
   "source": [
    "### Step 2.3: Interpret Principal Components\n",
    "\n",
    "Now that we have our transformed principal components, it's a nice idea to check out the weight of each variable on the first few components to see if they can be interpreted in some fashion.\n",
    "\n",
    "As a reminder, each principal component is a unit vector that points in the direction of highest variance (after accounting for the variance captured by earlier principal components). The further a weight is from zero, the more the principal component is in the direction of the corresponding feature. If two features have large weights of the same sign (both positive or both negative), then increases in one tend expect to be associated with increases in the other. To contrast, features with different signs can be expected to show a negative correlation: increases in one variable should result in a decrease in the other.\n",
    "\n",
    "- To investigate the features, you should map each weight to their corresponding feature name, then sort the features according to weight. The most interesting features for each principal component, then, will be those at the beginning and end of the sorted list. Use the data dictionary document to help you understand these most prominent features, their relationships, and what a positive or negative value on the principal component might indicate.\n",
    "- You should investigate and interpret feature associations from the first three principal components in this substep. To help facilitate this, you should write a function that you can call at any time to print the sorted list of feature weights, for the *i*-th principal component. This might come in handy in the next step of the project, when you interpret the tendencies of the discovered clusters."
   ]
  },
  {
   "cell_type": "code",
   "execution_count": 35,
   "metadata": {},
   "outputs": [],
   "source": [
    "def pca_results(full_dataset, pca):\n",
    "    '''\n",
    "    Create a DataFrame of the PCA results\n",
    "    Includes dimension feature weights and explained variance\n",
    "    Visualizes the PCA results\n",
    "    '''\n",
    "\n",
    "    # Dimension indexing\n",
    "    dimensions = dimensions = ['Dimension {}'.format(i) for i in range(1,len(pca.components_)+1)]\n",
    "\n",
    "    # PCA components\n",
    "    components = pd.DataFrame(np.round(pca.components_, 4), columns = full_dataset.keys())\n",
    "    components.index = dimensions\n",
    "\n",
    "    # PCA explained variance\n",
    "    ratios = pca.explained_variance_ratio_.reshape(len(pca.components_), 1)\n",
    "    variance_ratios = pd.DataFrame(np.round(ratios, 4), columns = ['Explained Variance'])\n",
    "    variance_ratios.index = dimensions\n",
    "\n",
    "#     # Create a bar plot visualization\n",
    "#     fig, ax = plt.subplots(figsize = (14,8))\n",
    "\n",
    "#     # Plot the feature weights as a function of the components\n",
    "#     components.plot(ax = ax, kind = 'bar');\n",
    "#     ax.set_ylabel(\"Feature Weights\")\n",
    "#     ax.set_xticklabels(dimensions, rotation=0)\n",
    "\n",
    "\n",
    "#     # Display the explained variance ratios\n",
    "#     for i, ev in enumerate(pca.explained_variance_ratio_):\n",
    "#         ax.text(i-0.40, ax.get_ylim()[1] + 0.05, \"Explained Variance\\n          %.4f\"%(ev))\n",
    "\n",
    "    # Return a concatenated DataFrame\n",
    "    return pd.concat([variance_ratios, components], axis = 1)\n"
   ]
  },
  {
   "cell_type": "code",
   "execution_count": 92,
   "metadata": {},
   "outputs": [
    {
     "data": {
      "text/html": [
       "<div>\n",
       "<style scoped>\n",
       "    .dataframe tbody tr th:only-of-type {\n",
       "        vertical-align: middle;\n",
       "    }\n",
       "\n",
       "    .dataframe tbody tr th {\n",
       "        vertical-align: top;\n",
       "    }\n",
       "\n",
       "    .dataframe thead th {\n",
       "        text-align: right;\n",
       "    }\n",
       "</style>\n",
       "<table border=\"1\" class=\"dataframe\">\n",
       "  <thead>\n",
       "    <tr style=\"text-align: right;\">\n",
       "      <th></th>\n",
       "      <th>Explained Variance</th>\n",
       "      <th>ALTERSKATEGORIE_GROB</th>\n",
       "      <th>ANREDE_KZ</th>\n",
       "      <th>FINANZ_MINIMALIST</th>\n",
       "      <th>FINANZ_SPARER</th>\n",
       "      <th>FINANZ_VORSORGER</th>\n",
       "      <th>FINANZ_ANLEGER</th>\n",
       "      <th>FINANZ_UNAUFFAELLIGER</th>\n",
       "      <th>FINANZ_HAUSBAUER</th>\n",
       "      <th>GREEN_AVANTGARDE</th>\n",
       "      <th>...</th>\n",
       "      <th>PLZ8_ANTG4</th>\n",
       "      <th>PLZ8_HHZ</th>\n",
       "      <th>PLZ8_GBZ</th>\n",
       "      <th>ARBEIT</th>\n",
       "      <th>ORTSGR_KLS9</th>\n",
       "      <th>RELAT_AB</th>\n",
       "      <th>decades</th>\n",
       "      <th>movement</th>\n",
       "      <th>wealth</th>\n",
       "      <th>life</th>\n",
       "    </tr>\n",
       "  </thead>\n",
       "  <tbody>\n",
       "    <tr>\n",
       "      <th>Dimension 1</th>\n",
       "      <td>0.1720</td>\n",
       "      <td>-0.1177</td>\n",
       "      <td>0.0078</td>\n",
       "      <td>-0.2189</td>\n",
       "      <td>0.1447</td>\n",
       "      <td>-0.1126</td>\n",
       "      <td>0.0677</td>\n",
       "      <td>0.0732</td>\n",
       "      <td>0.1629</td>\n",
       "      <td>-0.1103</td>\n",
       "      <td>...</td>\n",
       "      <td>0.2198</td>\n",
       "      <td>0.0416</td>\n",
       "      <td>-0.1679</td>\n",
       "      <td>0.1439</td>\n",
       "      <td>0.1974</td>\n",
       "      <td>0.1355</td>\n",
       "      <td>0.1000</td>\n",
       "      <td>0.1080</td>\n",
       "      <td>0.2076</td>\n",
       "      <td>-0.1254</td>\n",
       "    </tr>\n",
       "    <tr>\n",
       "      <th>Dimension 2</th>\n",
       "      <td>0.1369</td>\n",
       "      <td>0.2604</td>\n",
       "      <td>0.0905</td>\n",
       "      <td>0.0677</td>\n",
       "      <td>-0.2360</td>\n",
       "      <td>0.2327</td>\n",
       "      <td>-0.2051</td>\n",
       "      <td>-0.2272</td>\n",
       "      <td>0.1155</td>\n",
       "      <td>-0.0148</td>\n",
       "      <td>...</td>\n",
       "      <td>0.0878</td>\n",
       "      <td>0.0127</td>\n",
       "      <td>-0.0708</td>\n",
       "      <td>0.0660</td>\n",
       "      <td>0.0887</td>\n",
       "      <td>0.0636</td>\n",
       "      <td>-0.2514</td>\n",
       "      <td>0.0128</td>\n",
       "      <td>0.0727</td>\n",
       "      <td>0.0024</td>\n",
       "    </tr>\n",
       "    <tr>\n",
       "      <th>Dimension 3</th>\n",
       "      <td>0.0961</td>\n",
       "      <td>0.0793</td>\n",
       "      <td>-0.3688</td>\n",
       "      <td>0.1563</td>\n",
       "      <td>-0.1057</td>\n",
       "      <td>0.1005</td>\n",
       "      <td>-0.1890</td>\n",
       "      <td>-0.0989</td>\n",
       "      <td>-0.0439</td>\n",
       "      <td>0.0481</td>\n",
       "      <td>...</td>\n",
       "      <td>0.0458</td>\n",
       "      <td>0.0042</td>\n",
       "      <td>-0.0388</td>\n",
       "      <td>0.0345</td>\n",
       "      <td>0.0468</td>\n",
       "      <td>0.0316</td>\n",
       "      <td>-0.1076</td>\n",
       "      <td>-0.0463</td>\n",
       "      <td>0.0272</td>\n",
       "      <td>-0.0089</td>\n",
       "    </tr>\n",
       "    <tr>\n",
       "      <th>Dimension 4</th>\n",
       "      <td>0.0536</td>\n",
       "      <td>-0.0422</td>\n",
       "      <td>0.0372</td>\n",
       "      <td>0.0639</td>\n",
       "      <td>-0.0031</td>\n",
       "      <td>-0.0171</td>\n",
       "      <td>-0.1248</td>\n",
       "      <td>0.0830</td>\n",
       "      <td>-0.1055</td>\n",
       "      <td>0.3993</td>\n",
       "      <td>...</td>\n",
       "      <td>0.0845</td>\n",
       "      <td>0.1415</td>\n",
       "      <td>0.0352</td>\n",
       "      <td>0.0523</td>\n",
       "      <td>0.2493</td>\n",
       "      <td>0.0952</td>\n",
       "      <td>0.0385</td>\n",
       "      <td>-0.3987</td>\n",
       "      <td>-0.1237</td>\n",
       "      <td>0.0579</td>\n",
       "    </tr>\n",
       "    <tr>\n",
       "      <th>Dimension 5</th>\n",
       "      <td>0.0384</td>\n",
       "      <td>-0.0005</td>\n",
       "      <td>0.0075</td>\n",
       "      <td>0.0863</td>\n",
       "      <td>-0.0068</td>\n",
       "      <td>-0.0610</td>\n",
       "      <td>0.0369</td>\n",
       "      <td>-0.0475</td>\n",
       "      <td>-0.0870</td>\n",
       "      <td>0.0609</td>\n",
       "      <td>...</td>\n",
       "      <td>0.0161</td>\n",
       "      <td>-0.4940</td>\n",
       "      <td>-0.4051</td>\n",
       "      <td>0.2185</td>\n",
       "      <td>0.0923</td>\n",
       "      <td>0.1495</td>\n",
       "      <td>0.0291</td>\n",
       "      <td>-0.0571</td>\n",
       "      <td>-0.0089</td>\n",
       "      <td>0.0263</td>\n",
       "    </tr>\n",
       "    <tr>\n",
       "      <th>Dimension 6</th>\n",
       "      <td>0.0323</td>\n",
       "      <td>-0.0027</td>\n",
       "      <td>0.0137</td>\n",
       "      <td>-0.0280</td>\n",
       "      <td>0.0072</td>\n",
       "      <td>-0.0342</td>\n",
       "      <td>0.0223</td>\n",
       "      <td>-0.0249</td>\n",
       "      <td>0.0290</td>\n",
       "      <td>0.0081</td>\n",
       "      <td>...</td>\n",
       "      <td>0.0855</td>\n",
       "      <td>-0.0364</td>\n",
       "      <td>-0.0838</td>\n",
       "      <td>-0.1707</td>\n",
       "      <td>-0.0738</td>\n",
       "      <td>-0.2075</td>\n",
       "      <td>0.0171</td>\n",
       "      <td>-0.0110</td>\n",
       "      <td>-0.0715</td>\n",
       "      <td>0.0557</td>\n",
       "    </tr>\n",
       "    <tr>\n",
       "      <th>Dimension 7</th>\n",
       "      <td>0.0280</td>\n",
       "      <td>0.0480</td>\n",
       "      <td>-0.0402</td>\n",
       "      <td>0.0623</td>\n",
       "      <td>0.0414</td>\n",
       "      <td>-0.0119</td>\n",
       "      <td>0.0724</td>\n",
       "      <td>0.0327</td>\n",
       "      <td>-0.1874</td>\n",
       "      <td>-0.0184</td>\n",
       "      <td>...</td>\n",
       "      <td>0.0619</td>\n",
       "      <td>0.2349</td>\n",
       "      <td>0.1313</td>\n",
       "      <td>0.0279</td>\n",
       "      <td>0.1189</td>\n",
       "      <td>0.0333</td>\n",
       "      <td>0.0853</td>\n",
       "      <td>0.0205</td>\n",
       "      <td>0.0288</td>\n",
       "      <td>-0.0799</td>\n",
       "    </tr>\n",
       "    <tr>\n",
       "      <th>Dimension 8</th>\n",
       "      <td>0.0251</td>\n",
       "      <td>0.1425</td>\n",
       "      <td>-0.0296</td>\n",
       "      <td>-0.0745</td>\n",
       "      <td>0.1071</td>\n",
       "      <td>-0.1502</td>\n",
       "      <td>0.1359</td>\n",
       "      <td>0.0506</td>\n",
       "      <td>0.0171</td>\n",
       "      <td>0.0349</td>\n",
       "      <td>...</td>\n",
       "      <td>0.0923</td>\n",
       "      <td>0.0576</td>\n",
       "      <td>-0.0303</td>\n",
       "      <td>0.0225</td>\n",
       "      <td>-0.1154</td>\n",
       "      <td>-0.0288</td>\n",
       "      <td>0.1354</td>\n",
       "      <td>-0.0324</td>\n",
       "      <td>0.0608</td>\n",
       "      <td>-0.0330</td>\n",
       "    </tr>\n",
       "    <tr>\n",
       "      <th>Dimension 9</th>\n",
       "      <td>0.0220</td>\n",
       "      <td>0.0989</td>\n",
       "      <td>-0.0549</td>\n",
       "      <td>-0.1085</td>\n",
       "      <td>0.1641</td>\n",
       "      <td>-0.0613</td>\n",
       "      <td>0.0433</td>\n",
       "      <td>0.2671</td>\n",
       "      <td>-0.0681</td>\n",
       "      <td>0.0443</td>\n",
       "      <td>...</td>\n",
       "      <td>-0.0648</td>\n",
       "      <td>-0.2373</td>\n",
       "      <td>-0.1317</td>\n",
       "      <td>-0.3540</td>\n",
       "      <td>-0.0275</td>\n",
       "      <td>-0.1344</td>\n",
       "      <td>0.1486</td>\n",
       "      <td>-0.0496</td>\n",
       "      <td>0.0208</td>\n",
       "      <td>-0.1600</td>\n",
       "    </tr>\n",
       "    <tr>\n",
       "      <th>Dimension 10</th>\n",
       "      <td>0.0213</td>\n",
       "      <td>-0.0500</td>\n",
       "      <td>0.0134</td>\n",
       "      <td>0.1315</td>\n",
       "      <td>-0.1484</td>\n",
       "      <td>0.1952</td>\n",
       "      <td>-0.1693</td>\n",
       "      <td>-0.1316</td>\n",
       "      <td>-0.1414</td>\n",
       "      <td>-0.1331</td>\n",
       "      <td>...</td>\n",
       "      <td>0.0290</td>\n",
       "      <td>-0.1367</td>\n",
       "      <td>-0.1259</td>\n",
       "      <td>-0.3105</td>\n",
       "      <td>-0.0821</td>\n",
       "      <td>-0.1630</td>\n",
       "      <td>-0.0951</td>\n",
       "      <td>0.1385</td>\n",
       "      <td>0.0490</td>\n",
       "      <td>-0.1603</td>\n",
       "    </tr>\n",
       "    <tr>\n",
       "      <th>Dimension 11</th>\n",
       "      <td>0.0204</td>\n",
       "      <td>0.0186</td>\n",
       "      <td>0.0838</td>\n",
       "      <td>-0.1246</td>\n",
       "      <td>0.0188</td>\n",
       "      <td>0.0605</td>\n",
       "      <td>0.0650</td>\n",
       "      <td>0.0343</td>\n",
       "      <td>0.2494</td>\n",
       "      <td>0.1214</td>\n",
       "      <td>...</td>\n",
       "      <td>-0.0528</td>\n",
       "      <td>-0.0317</td>\n",
       "      <td>0.0086</td>\n",
       "      <td>0.0128</td>\n",
       "      <td>-0.0238</td>\n",
       "      <td>0.0596</td>\n",
       "      <td>-0.0665</td>\n",
       "      <td>-0.1314</td>\n",
       "      <td>0.0526</td>\n",
       "      <td>0.0624</td>\n",
       "    </tr>\n",
       "    <tr>\n",
       "      <th>Dimension 12</th>\n",
       "      <td>0.0191</td>\n",
       "      <td>-0.0300</td>\n",
       "      <td>-0.0507</td>\n",
       "      <td>0.0866</td>\n",
       "      <td>-0.0235</td>\n",
       "      <td>-0.0083</td>\n",
       "      <td>-0.0022</td>\n",
       "      <td>-0.0751</td>\n",
       "      <td>-0.1279</td>\n",
       "      <td>-0.0489</td>\n",
       "      <td>...</td>\n",
       "      <td>-0.0193</td>\n",
       "      <td>0.0461</td>\n",
       "      <td>0.0390</td>\n",
       "      <td>0.1505</td>\n",
       "      <td>-0.0303</td>\n",
       "      <td>0.1856</td>\n",
       "      <td>0.0197</td>\n",
       "      <td>0.0544</td>\n",
       "      <td>0.0593</td>\n",
       "      <td>-0.0328</td>\n",
       "    </tr>\n",
       "    <tr>\n",
       "      <th>Dimension 13</th>\n",
       "      <td>0.0180</td>\n",
       "      <td>-0.0548</td>\n",
       "      <td>-0.0306</td>\n",
       "      <td>-0.1256</td>\n",
       "      <td>0.0249</td>\n",
       "      <td>0.0620</td>\n",
       "      <td>-0.0342</td>\n",
       "      <td>0.0178</td>\n",
       "      <td>0.1184</td>\n",
       "      <td>0.0165</td>\n",
       "      <td>...</td>\n",
       "      <td>-0.1579</td>\n",
       "      <td>-0.0950</td>\n",
       "      <td>0.0605</td>\n",
       "      <td>0.0127</td>\n",
       "      <td>0.0894</td>\n",
       "      <td>0.0096</td>\n",
       "      <td>0.0082</td>\n",
       "      <td>-0.0139</td>\n",
       "      <td>-0.1517</td>\n",
       "      <td>0.3360</td>\n",
       "    </tr>\n",
       "    <tr>\n",
       "      <th>Dimension 14</th>\n",
       "      <td>0.0176</td>\n",
       "      <td>0.0627</td>\n",
       "      <td>0.0125</td>\n",
       "      <td>0.0247</td>\n",
       "      <td>-0.0176</td>\n",
       "      <td>-0.0427</td>\n",
       "      <td>-0.0276</td>\n",
       "      <td>0.0702</td>\n",
       "      <td>-0.0860</td>\n",
       "      <td>-0.1081</td>\n",
       "      <td>...</td>\n",
       "      <td>-0.0158</td>\n",
       "      <td>-0.0154</td>\n",
       "      <td>-0.0131</td>\n",
       "      <td>-0.1139</td>\n",
       "      <td>0.0696</td>\n",
       "      <td>-0.2326</td>\n",
       "      <td>-0.0029</td>\n",
       "      <td>0.1074</td>\n",
       "      <td>-0.1392</td>\n",
       "      <td>0.1035</td>\n",
       "    </tr>\n",
       "    <tr>\n",
       "      <th>Dimension 15</th>\n",
       "      <td>0.0167</td>\n",
       "      <td>0.0021</td>\n",
       "      <td>0.0240</td>\n",
       "      <td>0.0345</td>\n",
       "      <td>0.0144</td>\n",
       "      <td>0.0004</td>\n",
       "      <td>0.0156</td>\n",
       "      <td>0.1118</td>\n",
       "      <td>-0.1598</td>\n",
       "      <td>0.3416</td>\n",
       "      <td>...</td>\n",
       "      <td>0.0329</td>\n",
       "      <td>-0.0417</td>\n",
       "      <td>-0.0336</td>\n",
       "      <td>-0.0262</td>\n",
       "      <td>-0.0923</td>\n",
       "      <td>0.1144</td>\n",
       "      <td>0.0146</td>\n",
       "      <td>-0.3472</td>\n",
       "      <td>0.1094</td>\n",
       "      <td>-0.1942</td>\n",
       "    </tr>\n",
       "    <tr>\n",
       "      <th>Dimension 16</th>\n",
       "      <td>0.0161</td>\n",
       "      <td>-0.0905</td>\n",
       "      <td>0.0194</td>\n",
       "      <td>-0.0132</td>\n",
       "      <td>0.0077</td>\n",
       "      <td>-0.0301</td>\n",
       "      <td>0.1342</td>\n",
       "      <td>-0.0882</td>\n",
       "      <td>0.1319</td>\n",
       "      <td>0.1448</td>\n",
       "      <td>...</td>\n",
       "      <td>0.1536</td>\n",
       "      <td>0.0195</td>\n",
       "      <td>-0.1165</td>\n",
       "      <td>-0.2397</td>\n",
       "      <td>-0.0556</td>\n",
       "      <td>-0.4548</td>\n",
       "      <td>-0.0267</td>\n",
       "      <td>-0.1456</td>\n",
       "      <td>-0.0635</td>\n",
       "      <td>0.0715</td>\n",
       "    </tr>\n",
       "    <tr>\n",
       "      <th>Dimension 17</th>\n",
       "      <td>0.0159</td>\n",
       "      <td>-0.0092</td>\n",
       "      <td>0.0019</td>\n",
       "      <td>0.0061</td>\n",
       "      <td>-0.0016</td>\n",
       "      <td>-0.0043</td>\n",
       "      <td>0.0073</td>\n",
       "      <td>-0.0016</td>\n",
       "      <td>-0.0025</td>\n",
       "      <td>0.0142</td>\n",
       "      <td>...</td>\n",
       "      <td>0.0204</td>\n",
       "      <td>0.0033</td>\n",
       "      <td>-0.0133</td>\n",
       "      <td>-0.0205</td>\n",
       "      <td>-0.0078</td>\n",
       "      <td>-0.0321</td>\n",
       "      <td>-0.0005</td>\n",
       "      <td>-0.0140</td>\n",
       "      <td>-0.0061</td>\n",
       "      <td>0.0029</td>\n",
       "    </tr>\n",
       "    <tr>\n",
       "      <th>Dimension 18</th>\n",
       "      <td>0.0149</td>\n",
       "      <td>-0.1095</td>\n",
       "      <td>0.0399</td>\n",
       "      <td>0.0770</td>\n",
       "      <td>-0.1847</td>\n",
       "      <td>0.2296</td>\n",
       "      <td>-0.1286</td>\n",
       "      <td>-0.1774</td>\n",
       "      <td>0.0981</td>\n",
       "      <td>0.0899</td>\n",
       "      <td>...</td>\n",
       "      <td>0.0923</td>\n",
       "      <td>-0.0044</td>\n",
       "      <td>-0.0751</td>\n",
       "      <td>-0.0997</td>\n",
       "      <td>-0.0537</td>\n",
       "      <td>-0.0414</td>\n",
       "      <td>-0.1143</td>\n",
       "      <td>-0.0718</td>\n",
       "      <td>0.0187</td>\n",
       "      <td>0.1012</td>\n",
       "    </tr>\n",
       "    <tr>\n",
       "      <th>Dimension 19</th>\n",
       "      <td>0.0133</td>\n",
       "      <td>0.0152</td>\n",
       "      <td>0.0005</td>\n",
       "      <td>-0.0218</td>\n",
       "      <td>-0.0026</td>\n",
       "      <td>0.0360</td>\n",
       "      <td>-0.0422</td>\n",
       "      <td>-0.0444</td>\n",
       "      <td>0.0784</td>\n",
       "      <td>-0.0611</td>\n",
       "      <td>...</td>\n",
       "      <td>-0.0376</td>\n",
       "      <td>0.0182</td>\n",
       "      <td>0.0748</td>\n",
       "      <td>0.0479</td>\n",
       "      <td>0.0480</td>\n",
       "      <td>0.0301</td>\n",
       "      <td>-0.0091</td>\n",
       "      <td>0.0628</td>\n",
       "      <td>0.1324</td>\n",
       "      <td>-0.4758</td>\n",
       "    </tr>\n",
       "    <tr>\n",
       "      <th>Dimension 20</th>\n",
       "      <td>0.0132</td>\n",
       "      <td>0.0176</td>\n",
       "      <td>-0.0045</td>\n",
       "      <td>0.0145</td>\n",
       "      <td>0.0505</td>\n",
       "      <td>-0.0556</td>\n",
       "      <td>-0.0127</td>\n",
       "      <td>0.1770</td>\n",
       "      <td>-0.1236</td>\n",
       "      <td>-0.2624</td>\n",
       "      <td>...</td>\n",
       "      <td>0.1601</td>\n",
       "      <td>0.0196</td>\n",
       "      <td>-0.0988</td>\n",
       "      <td>-0.0761</td>\n",
       "      <td>-0.0343</td>\n",
       "      <td>0.1083</td>\n",
       "      <td>0.0452</td>\n",
       "      <td>0.2608</td>\n",
       "      <td>-0.1539</td>\n",
       "      <td>0.3665</td>\n",
       "    </tr>\n",
       "  </tbody>\n",
       "</table>\n",
       "<p>20 rows × 64 columns</p>\n",
       "</div>"
      ],
      "text/plain": [
       "              Explained Variance  ALTERSKATEGORIE_GROB  ANREDE_KZ  \\\n",
       "Dimension 1               0.1720               -0.1177     0.0078   \n",
       "Dimension 2               0.1369                0.2604     0.0905   \n",
       "Dimension 3               0.0961                0.0793    -0.3688   \n",
       "Dimension 4               0.0536               -0.0422     0.0372   \n",
       "Dimension 5               0.0384               -0.0005     0.0075   \n",
       "Dimension 6               0.0323               -0.0027     0.0137   \n",
       "Dimension 7               0.0280                0.0480    -0.0402   \n",
       "Dimension 8               0.0251                0.1425    -0.0296   \n",
       "Dimension 9               0.0220                0.0989    -0.0549   \n",
       "Dimension 10              0.0213               -0.0500     0.0134   \n",
       "Dimension 11              0.0204                0.0186     0.0838   \n",
       "Dimension 12              0.0191               -0.0300    -0.0507   \n",
       "Dimension 13              0.0180               -0.0548    -0.0306   \n",
       "Dimension 14              0.0176                0.0627     0.0125   \n",
       "Dimension 15              0.0167                0.0021     0.0240   \n",
       "Dimension 16              0.0161               -0.0905     0.0194   \n",
       "Dimension 17              0.0159               -0.0092     0.0019   \n",
       "Dimension 18              0.0149               -0.1095     0.0399   \n",
       "Dimension 19              0.0133                0.0152     0.0005   \n",
       "Dimension 20              0.0132                0.0176    -0.0045   \n",
       "\n",
       "              FINANZ_MINIMALIST  FINANZ_SPARER  FINANZ_VORSORGER  \\\n",
       "Dimension 1             -0.2189         0.1447           -0.1126   \n",
       "Dimension 2              0.0677        -0.2360            0.2327   \n",
       "Dimension 3              0.1563        -0.1057            0.1005   \n",
       "Dimension 4              0.0639        -0.0031           -0.0171   \n",
       "Dimension 5              0.0863        -0.0068           -0.0610   \n",
       "Dimension 6             -0.0280         0.0072           -0.0342   \n",
       "Dimension 7              0.0623         0.0414           -0.0119   \n",
       "Dimension 8             -0.0745         0.1071           -0.1502   \n",
       "Dimension 9             -0.1085         0.1641           -0.0613   \n",
       "Dimension 10             0.1315        -0.1484            0.1952   \n",
       "Dimension 11            -0.1246         0.0188            0.0605   \n",
       "Dimension 12             0.0866        -0.0235           -0.0083   \n",
       "Dimension 13            -0.1256         0.0249            0.0620   \n",
       "Dimension 14             0.0247        -0.0176           -0.0427   \n",
       "Dimension 15             0.0345         0.0144            0.0004   \n",
       "Dimension 16            -0.0132         0.0077           -0.0301   \n",
       "Dimension 17             0.0061        -0.0016           -0.0043   \n",
       "Dimension 18             0.0770        -0.1847            0.2296   \n",
       "Dimension 19            -0.0218        -0.0026            0.0360   \n",
       "Dimension 20             0.0145         0.0505           -0.0556   \n",
       "\n",
       "              FINANZ_ANLEGER  FINANZ_UNAUFFAELLIGER  FINANZ_HAUSBAUER  \\\n",
       "Dimension 1           0.0677                 0.0732            0.1629   \n",
       "Dimension 2          -0.2051                -0.2272            0.1155   \n",
       "Dimension 3          -0.1890                -0.0989           -0.0439   \n",
       "Dimension 4          -0.1248                 0.0830           -0.1055   \n",
       "Dimension 5           0.0369                -0.0475           -0.0870   \n",
       "Dimension 6           0.0223                -0.0249            0.0290   \n",
       "Dimension 7           0.0724                 0.0327           -0.1874   \n",
       "Dimension 8           0.1359                 0.0506            0.0171   \n",
       "Dimension 9           0.0433                 0.2671           -0.0681   \n",
       "Dimension 10         -0.1693                -0.1316           -0.1414   \n",
       "Dimension 11          0.0650                 0.0343            0.2494   \n",
       "Dimension 12         -0.0022                -0.0751           -0.1279   \n",
       "Dimension 13         -0.0342                 0.0178            0.1184   \n",
       "Dimension 14         -0.0276                 0.0702           -0.0860   \n",
       "Dimension 15          0.0156                 0.1118           -0.1598   \n",
       "Dimension 16          0.1342                -0.0882            0.1319   \n",
       "Dimension 17          0.0073                -0.0016           -0.0025   \n",
       "Dimension 18         -0.1286                -0.1774            0.0981   \n",
       "Dimension 19         -0.0422                -0.0444            0.0784   \n",
       "Dimension 20         -0.0127                 0.1770           -0.1236   \n",
       "\n",
       "              GREEN_AVANTGARDE   ...    PLZ8_ANTG4  PLZ8_HHZ  PLZ8_GBZ  \\\n",
       "Dimension 1            -0.1103   ...        0.2198    0.0416   -0.1679   \n",
       "Dimension 2            -0.0148   ...        0.0878    0.0127   -0.0708   \n",
       "Dimension 3             0.0481   ...        0.0458    0.0042   -0.0388   \n",
       "Dimension 4             0.3993   ...        0.0845    0.1415    0.0352   \n",
       "Dimension 5             0.0609   ...        0.0161   -0.4940   -0.4051   \n",
       "Dimension 6             0.0081   ...        0.0855   -0.0364   -0.0838   \n",
       "Dimension 7            -0.0184   ...        0.0619    0.2349    0.1313   \n",
       "Dimension 8             0.0349   ...        0.0923    0.0576   -0.0303   \n",
       "Dimension 9             0.0443   ...       -0.0648   -0.2373   -0.1317   \n",
       "Dimension 10           -0.1331   ...        0.0290   -0.1367   -0.1259   \n",
       "Dimension 11            0.1214   ...       -0.0528   -0.0317    0.0086   \n",
       "Dimension 12           -0.0489   ...       -0.0193    0.0461    0.0390   \n",
       "Dimension 13            0.0165   ...       -0.1579   -0.0950    0.0605   \n",
       "Dimension 14           -0.1081   ...       -0.0158   -0.0154   -0.0131   \n",
       "Dimension 15            0.3416   ...        0.0329   -0.0417   -0.0336   \n",
       "Dimension 16            0.1448   ...        0.1536    0.0195   -0.1165   \n",
       "Dimension 17            0.0142   ...        0.0204    0.0033   -0.0133   \n",
       "Dimension 18            0.0899   ...        0.0923   -0.0044   -0.0751   \n",
       "Dimension 19           -0.0611   ...       -0.0376    0.0182    0.0748   \n",
       "Dimension 20           -0.2624   ...        0.1601    0.0196   -0.0988   \n",
       "\n",
       "              ARBEIT  ORTSGR_KLS9  RELAT_AB  decades  movement  wealth    life  \n",
       "Dimension 1   0.1439       0.1974    0.1355   0.1000    0.1080  0.2076 -0.1254  \n",
       "Dimension 2   0.0660       0.0887    0.0636  -0.2514    0.0128  0.0727  0.0024  \n",
       "Dimension 3   0.0345       0.0468    0.0316  -0.1076   -0.0463  0.0272 -0.0089  \n",
       "Dimension 4   0.0523       0.2493    0.0952   0.0385   -0.3987 -0.1237  0.0579  \n",
       "Dimension 5   0.2185       0.0923    0.1495   0.0291   -0.0571 -0.0089  0.0263  \n",
       "Dimension 6  -0.1707      -0.0738   -0.2075   0.0171   -0.0110 -0.0715  0.0557  \n",
       "Dimension 7   0.0279       0.1189    0.0333   0.0853    0.0205  0.0288 -0.0799  \n",
       "Dimension 8   0.0225      -0.1154   -0.0288   0.1354   -0.0324  0.0608 -0.0330  \n",
       "Dimension 9  -0.3540      -0.0275   -0.1344   0.1486   -0.0496  0.0208 -0.1600  \n",
       "Dimension 10 -0.3105      -0.0821   -0.1630  -0.0951    0.1385  0.0490 -0.1603  \n",
       "Dimension 11  0.0128      -0.0238    0.0596  -0.0665   -0.1314  0.0526  0.0624  \n",
       "Dimension 12  0.1505      -0.0303    0.1856   0.0197    0.0544  0.0593 -0.0328  \n",
       "Dimension 13  0.0127       0.0894    0.0096   0.0082   -0.0139 -0.1517  0.3360  \n",
       "Dimension 14 -0.1139       0.0696   -0.2326  -0.0029    0.1074 -0.1392  0.1035  \n",
       "Dimension 15 -0.0262      -0.0923    0.1144   0.0146   -0.3472  0.1094 -0.1942  \n",
       "Dimension 16 -0.2397      -0.0556   -0.4548  -0.0267   -0.1456 -0.0635  0.0715  \n",
       "Dimension 17 -0.0205      -0.0078   -0.0321  -0.0005   -0.0140 -0.0061  0.0029  \n",
       "Dimension 18 -0.0997      -0.0537   -0.0414  -0.1143   -0.0718  0.0187  0.1012  \n",
       "Dimension 19  0.0479       0.0480    0.0301  -0.0091    0.0628  0.1324 -0.4758  \n",
       "Dimension 20 -0.0761      -0.0343    0.1083   0.0452    0.2608 -0.1539  0.3665  \n",
       "\n",
       "[20 rows x 64 columns]"
      ]
     },
     "execution_count": 92,
     "metadata": {},
     "output_type": "execute_result"
    }
   ],
   "source": [
    "# Map weights for the second principal component to corresponding feature names\n",
    "# and then print the linked values, sorted by weight.\n",
    "pca_results(azdias_Cleaned,pca)"
   ]
  },
  {
   "cell_type": "code",
   "execution_count": 36,
   "metadata": {},
   "outputs": [],
   "source": [
    "# Map weights for the third principal component to corresponding feature names\n",
    "# and then print the linked values, sorted by weight.\n",
    "\n",
    "def pca_results_individual(full_dataset, pca, pca_no):\n",
    "    '''\n",
    "    Create a DataFrame of the PCA results\n",
    "    Includes dimension feature weights and explained variance\n",
    "    Visualizes the PCA results\n",
    "    '''\n",
    "\n",
    "    # Dimension indexing\n",
    "    dimensions = dimensions = ['Dimension {}'.format(i) for i in range(1,len(pca.components_)+1)]\n",
    "\n",
    "    # PCA components\n",
    "    components = pd.DataFrame(np.round(pca.components_, 4), columns = full_dataset.keys())\n",
    "    components.index = dimensions\n",
    "\n",
    "    # PCA explained variance\n",
    "    ratios = pca.explained_variance_ratio_.reshape(len(pca.components_), 1)\n",
    "    variance_ratios = pd.DataFrame(np.round(ratios, 4), columns = ['Explained Variance'])\n",
    "    variance_ratios.index = dimensions\n",
    "\n",
    "    \n",
    "    dimension=components.loc[  'Dimension '+str(pca_no)  ,  :].sort_values(ascending=False)\n",
    "    \n",
    "    # Return a concatenated DataFrame\n",
    "    pd.concat([ components, variance_ratios], axis = 1)\n",
    "    \n",
    "    print('===POSITIVE===\\n')\n",
    "    print(dimension[dimension>0].head())\n",
    "    print('===NEGATIVE===\\n')\n",
    "    dimension=components.loc[  'Dimension '+str(pca_no)   ,  :].sort_values(ascending=True)\n",
    "    print(dimension[dimension<0].head())"
   ]
  },
  {
   "cell_type": "code",
   "execution_count": 55,
   "metadata": {},
   "outputs": [
    {
     "name": "stdout",
     "output_type": "stream",
     "text": [
      "===POSITIVE===\n",
      "\n",
      "PLZ8_ANTG3            0.2267\n",
      "PLZ8_ANTG4            0.2198\n",
      "wealth                0.2076\n",
      "HH_EINKOMMEN_SCORE    0.2043\n",
      "ORTSGR_KLS9           0.1974\n",
      "Name: Dimension 1, dtype: float64\n",
      "===NEGATIVE===\n",
      "\n",
      "MOBI_REGIO          -0.2422\n",
      "PLZ8_ANTG1          -0.2264\n",
      "KBA05_ANTG1         -0.2257\n",
      "FINANZ_MINIMALIST   -0.2189\n",
      "KBA05_GBZ           -0.2172\n",
      "Name: Dimension 1, dtype: float64\n"
     ]
    }
   ],
   "source": [
    "pca_results_individual(azdias_Cleaned,pca,1)"
   ]
  },
  {
   "cell_type": "code",
   "execution_count": 56,
   "metadata": {},
   "outputs": [
    {
     "name": "stdout",
     "output_type": "stream",
     "text": [
      "===POSITIVE===\n",
      "\n",
      "ALTERSKATEGORIE_GROB    0.2604\n",
      "FINANZ_VORSORGER        0.2327\n",
      "SEMIO_ERL               0.2310\n",
      "SEMIO_LUST              0.1831\n",
      "RETOURTYP_BK_S          0.1644\n",
      "Name: Dimension 2, dtype: float64\n",
      "===NEGATIVE===\n",
      "\n",
      "SEMIO_REL       -0.2554\n",
      "decades         -0.2514\n",
      "FINANZ_SPARER   -0.2360\n",
      "SEMIO_TRADV     -0.2312\n",
      "SEMIO_PFLICHT   -0.2290\n",
      "Name: Dimension 2, dtype: float64\n"
     ]
    }
   ],
   "source": [
    "pca_results_individual(azdias_Cleaned,pca,2)"
   ]
  },
  {
   "cell_type": "code",
   "execution_count": 59,
   "metadata": {},
   "outputs": [
    {
     "name": "stdout",
     "output_type": "stream",
     "text": [
      "===POSITIVE===\n",
      "\n",
      "SEMIO_VERT           0.3463\n",
      "SEMIO_SOZ            0.2631\n",
      "SEMIO_FAM            0.2501\n",
      "SEMIO_KULT           0.2341\n",
      "FINANZ_MINIMALIST    0.1563\n",
      "Name: Dimension 3, dtype: float64\n",
      "===NEGATIVE===\n",
      "\n",
      "ANREDE_KZ    -0.3688\n",
      "SEMIO_KAEM   -0.3373\n",
      "SEMIO_DOM    -0.3141\n",
      "SEMIO_KRIT   -0.2742\n",
      "SEMIO_RAT    -0.2171\n",
      "Name: Dimension 3, dtype: float64\n"
     ]
    }
   ],
   "source": [
    "pca_results_individual(azdias_Cleaned,pca,3)"
   ]
  },
  {
   "cell_type": "markdown",
   "metadata": {},
   "source": [
    "### Discussion 2.3: Interpret Principal Components\n",
    "the main thing we want to look at is the abs( pca value). The sign tells u s if its a positive or negative correlation.  Since out dataset is segments of the population that form the core customer base for a mail-order sales company in Germany, the following PCs will give insight into how the dataset is best splitup/characterized. The three cells above show the top positive and negative values for each PC. I will go into detail about each value below:\n",
    "\n",
    "\n",
    "PC1: \n",
    "=======================================================\n",
    "[Positive correlation with bigger familes, negative correlation with small familes. This one is more tied to size of your community/family.]\n",
    "\n",
    "\n",
    "===POSITIVE===\n",
    "\n",
    "PLZ8_ANTG3            0.2267        Number of 6-10 family houses in the PLZ8 region\n",
    "PLZ8_ANTG4            0.2198        Number of 10+ family houses in the PLZ8 region\n",
    "wealth                0.2076        \n",
    "HH_EINKOMMEN_SCORE    0.2043        \n",
    "ORTSGR_KLS9           0.1974        Size of community\n",
    "\n",
    "===NEGATIVE===\n",
    "\n",
    "MOBI_REGIO          -0.2422        \n",
    "PLZ8_ANTG1          -0.2264        Number of 1-2 family houses in the PLZ8 region\n",
    "KBA05_ANTG1         -0.2257        Number of 1-2 family houses in the microcell\n",
    "FINANZ_MINIMALIST   -0.2189        Most descriptive financial type for individual: low financial interest\n",
    "KBA05_GBZ           -0.2172        Number of buildings in the microcell\n",
    "\n",
    "PC2:\n",
    "=========================================================\n",
    "[PC2 is more associated with personality type ( simliar to PC3). This principal component is more focused on behaviors ( religious vs 'sensual'), or  vs age vs money saving type.]\n",
    "\n",
    "===POSITIVE===\n",
    "\n",
    "\n",
    "ALTERSKATEGORIE_GROB    0.2604        Estimated age based on given name analysis\n",
    "FINANZ_VORSORGER        0.2327        finaincial : be prepared\n",
    "SEMIO_ERL               0.2310        Personality typology, for each dimension: event-oriented\n",
    "SEMIO_LUST              0.1831        Personality typology, for each dimension: sensual-minded\n",
    "RETOURTYP_BK_S          0.1644        \n",
    "\n",
    "===NEGATIVE===\n",
    "\n",
    "SEMIO_REL       -0.2554        Personality typology, for each dimension:religious\n",
    "decades         -0.2514        \n",
    "FINANZ_SPARER   -0.2360       Money saver\n",
    "SEMIO_TRADV     -0.2312       Personality typology, for each dimension: tradional-minded\n",
    "SEMIO_PFLICHT   -0.2290       Personality typology, for each dimension:dutiful\n",
    "\n",
    "PC3:\n",
    "==========================================================\n",
    "[PC3 has more to do with personality type, having a positive correlation with more positive energies, and negative association with negative / dominate energies. This PC also includes how you save money, having a positive correlation with 'low financial interest' and negative association.]\n",
    "===POSITIVE===\n",
    "\n",
    "SEMIO_VERT           0.3463        Personality typology, for each dimension:dreamful\n",
    "SEMIO_SOZ            0.2631        Personality typology, for each dimension:socially-minded\n",
    "SEMIO_FAM            0.2501        Personality typology, for each dimension:family-minded\n",
    "SEMIO_KULT           0.2341        Personality typology, for each dimension:cultural-minded\n",
    "FINANZ_MINIMALIST    0.1563        Most descriptive financial type for individual: low financial interest\n",
    "Name: Dimension 3, dtype: float64\n",
    "===NEGATIVE===\n",
    "\n",
    "ANREDE_KZ    -0.3688        \n",
    "SEMIO_KAEM   -0.3373        Personality typology, for each dimension:combative attitude\n",
    "SEMIO_DOM    -0.3141        Personality typology, for each dimension:dominant-minded\n",
    "SEMIO_KRIT   -0.2742        Personality typology, for each dimension:critical-minded\n",
    "SEMIO_RAT    -0.2171        Personality typology, for each dimension:rational\n",
    "Name: Dimension 3, dtype: float64\n"
   ]
  },
  {
   "cell_type": "markdown",
   "metadata": {},
   "source": [
    "## Step 3: Clustering\n",
    "\n",
    "### Step 3.1: Apply Clustering to General Population\n",
    "\n",
    "You've assessed and cleaned the demographics data, then scaled and transformed them. Now, it's time to see how the data clusters in the principal components space. In this substep, you will apply k-means clustering to the dataset and use the average within-cluster distances from each point to their assigned cluster's centroid to decide on a number of clusters to keep.\n",
    "\n",
    "- Use sklearn's [KMeans](http://scikit-learn.org/stable/modules/generated/sklearn.cluster.KMeans.html#sklearn.cluster.KMeans) class to perform k-means clustering on the PCA-transformed data.\n",
    "- Then, compute the average difference from each point to its assigned cluster's center. **Hint**: The KMeans object's `.score()` method might be useful here, but note that in sklearn, scores tend to be defined so that larger is better. Try applying it to a small, toy dataset, or use an internet search to help your understanding.\n",
    "- Perform the above two steps for a number of different cluster counts. You can then see how the average distance decreases with an increasing number of clusters. However, each additional cluster provides a smaller net benefit. Use this fact to select a final number of clusters in which to group the data. **Warning**: because of the large size of the dataset, it can take a long time for the algorithm to resolve. The more clusters to fit, the longer the algorithm will take. You should test for cluster counts through at least 10 clusters to get the full picture, but you shouldn't need to test for a number of clusters above about 30.\n",
    "- Once you've selected a final number of clusters to use, re-fit a KMeans instance to perform the clustering operation. Make sure that you also obtain the cluster assignments for the general demographics data, since you'll be using them in the final Step 3.3."
   ]
  },
  {
   "cell_type": "code",
   "execution_count": 37,
   "metadata": {},
   "outputs": [],
   "source": [
    "def get_kmeans_score(data, center):\n",
    "    '''\n",
    "    returns the kmeans score regarding SSE for points to centers\n",
    "    INPUT:\n",
    "        data - the dataset you want to fit kmeans to\n",
    "        center - the number of centers you want (the k value)\n",
    "    OUTPUT:\n",
    "        score - the SSE score for the kmeans model fit to the data\n",
    "    '''\n",
    "    #instantiate kmeans\n",
    "    kmeans = KMeans(n_clusters=center)\n",
    "\n",
    "    # Then fit the model to your data using the fit method\n",
    "    model = kmeans.fit(data)\n",
    "\n",
    "    # Obtain a score related to the model fit\n",
    "    score = np.abs(model.score(data))\n",
    "\n",
    "    return score\n",
    "\n",
    "def fit_mods():\n",
    "    scores = []\n",
    "    centers = list(range(1,11))\n",
    "\n",
    "    for center in centers:\n",
    "        scores.append(get_kmeans_score(data, center))\n",
    "\n",
    "    return centers, scores\n",
    "def plot_data(data, labels):\n",
    "    '''\n",
    "    Plot data with colors associated with labels\n",
    "    '''\n",
    "    fig = plt.figure();\n",
    "    ax = Axes3D(fig)\n",
    "    ax.scatter(data[:, 0], data[:, 1], data[:, 2], c=labels, cmap='tab10');"
   ]
  },
  {
   "cell_type": "code",
   "execution_count": 43,
   "metadata": {},
   "outputs": [
    {
     "data": {
      "image/png": "[encoded data removed]",
      "text/plain": [
       "<matplotlib.figure.Figure at 0x7f6c8e06a438>"
      ]
     },
     "metadata": {
      "needs_background": "light"
     },
     "output_type": "display_data"
    }
   ],
   "source": [
    "\n",
    "scores = []\n",
    "# centers = list(range(1,3))\n",
    "centers = [1,5,7,8,9,12]\n",
    "\n",
    "for center in centers:\n",
    "    scores.append(get_kmeans_score(pca_azdias, center))\n",
    "    \n",
    "plt.plot(centers, scores, linestyle='--', marker='o', color='b');\n",
    "plt.xlabel('K');\n",
    "plt.ylabel('SSE');\n",
    "plt.title('SSE vs. K');\n"
   ]
  },
  {
   "cell_type": "code",
   "execution_count": 41,
   "metadata": {},
   "outputs": [],
   "source": [
    "# Re-fit the k-means model with the selected number of clusters and obtain\n",
    "# cluster predictions for the general population demographics data.\n",
    "myKmeans_fit = KMeans(8).fit(pca_azdias)\n",
    "pred_8 = myKmeans_fit.predict(pca_azdias)"
   ]
  },
  {
   "cell_type": "markdown",
   "metadata": {},
   "source": [
    "### Discussion 3.1: Apply Clustering to General Population\n",
    "\n",
    "saw a big fall off in rate of change at 5, then again another change at around 8.  From 8-12 there wasn't a dramatic change in  sum of the squared distance between centroid and each member of the cluster. Therefore, I think 8 is an ideal number. If I didn't skip so many iterations of KMeans() the elbow method would be more relevant, but the change is much more pronounced at 5 because of the skipped data."
   ]
  },
  {
   "cell_type": "markdown",
   "metadata": {},
   "source": [
    "### Step 3.2: Apply All Steps to the Customer Data\n",
    "\n",
    "Now that you have clusters and cluster centers for the general population, it's time to see how the customer data maps on to those clusters. Take care to not confuse this for re-fitting all of the models to the customer data. Instead, you're going to use the fits from the general population to clean, transform, and cluster the customer data. In the last step of the project, you will interpret how the general population fits apply to the customer data.\n",
    "\n",
    "- Don't forget when loading in the customers data, that it is semicolon (`;`) delimited.\n",
    "- Apply the same feature wrangling, selection, and engineering steps to the customer demographics using the `clean_data()` function you created earlier. (You can assume that the customer demographics data has similar meaning behind missing data patterns as the general demographics data.)\n",
    "- Use the sklearn objects from the general demographics data, and apply their transformations to the customers data. That is, you should not be using a `.fit()` or `.fit_transform()` method to re-fit the old objects, nor should you be creating new sklearn objects! Carry the data through the feature scaling, PCA, and clustering steps, obtaining cluster assignments for all of the data in the customer demographics data."
   ]
  },
  {
   "cell_type": "code",
   "execution_count": 42,
   "metadata": {},
   "outputs": [
    {
     "name": "stdout",
     "output_type": "stream",
     "text": [
      "(191652, 85)\n"
     ]
    },
    {
     "data": {
      "text/html": [
       "<div>\n",
       "<style scoped>\n",
       "    .dataframe tbody tr th:only-of-type {\n",
       "        vertical-align: middle;\n",
       "    }\n",
       "\n",
       "    .dataframe tbody tr th {\n",
       "        vertical-align: top;\n",
       "    }\n",
       "\n",
       "    .dataframe thead th {\n",
       "        text-align: right;\n",
       "    }\n",
       "</style>\n",
       "<table border=\"1\" class=\"dataframe\">\n",
       "  <thead>\n",
       "    <tr style=\"text-align: right;\">\n",
       "      <th></th>\n",
       "      <th>AGER_TYP</th>\n",
       "      <th>ALTERSKATEGORIE_GROB</th>\n",
       "      <th>ANREDE_KZ</th>\n",
       "      <th>CJT_GESAMTTYP</th>\n",
       "      <th>FINANZ_MINIMALIST</th>\n",
       "      <th>FINANZ_SPARER</th>\n",
       "      <th>FINANZ_VORSORGER</th>\n",
       "      <th>FINANZ_ANLEGER</th>\n",
       "      <th>FINANZ_UNAUFFAELLIGER</th>\n",
       "      <th>FINANZ_HAUSBAUER</th>\n",
       "      <th>...</th>\n",
       "      <th>PLZ8_ANTG1</th>\n",
       "      <th>PLZ8_ANTG2</th>\n",
       "      <th>PLZ8_ANTG3</th>\n",
       "      <th>PLZ8_ANTG4</th>\n",
       "      <th>PLZ8_BAUMAX</th>\n",
       "      <th>PLZ8_HHZ</th>\n",
       "      <th>PLZ8_GBZ</th>\n",
       "      <th>ARBEIT</th>\n",
       "      <th>ORTSGR_KLS9</th>\n",
       "      <th>RELAT_AB</th>\n",
       "    </tr>\n",
       "  </thead>\n",
       "  <tbody>\n",
       "    <tr>\n",
       "      <th>0</th>\n",
       "      <td>2</td>\n",
       "      <td>4</td>\n",
       "      <td>1</td>\n",
       "      <td>5.0</td>\n",
       "      <td>5</td>\n",
       "      <td>1</td>\n",
       "      <td>5</td>\n",
       "      <td>1</td>\n",
       "      <td>2</td>\n",
       "      <td>2</td>\n",
       "      <td>...</td>\n",
       "      <td>3.0</td>\n",
       "      <td>3.0</td>\n",
       "      <td>1.0</td>\n",
       "      <td>0.0</td>\n",
       "      <td>1.0</td>\n",
       "      <td>5.0</td>\n",
       "      <td>5.0</td>\n",
       "      <td>1.0</td>\n",
       "      <td>2.0</td>\n",
       "      <td>1.0</td>\n",
       "    </tr>\n",
       "    <tr>\n",
       "      <th>1</th>\n",
       "      <td>-1</td>\n",
       "      <td>4</td>\n",
       "      <td>1</td>\n",
       "      <td>NaN</td>\n",
       "      <td>5</td>\n",
       "      <td>1</td>\n",
       "      <td>5</td>\n",
       "      <td>1</td>\n",
       "      <td>3</td>\n",
       "      <td>2</td>\n",
       "      <td>...</td>\n",
       "      <td>NaN</td>\n",
       "      <td>NaN</td>\n",
       "      <td>NaN</td>\n",
       "      <td>NaN</td>\n",
       "      <td>NaN</td>\n",
       "      <td>NaN</td>\n",
       "      <td>NaN</td>\n",
       "      <td>NaN</td>\n",
       "      <td>NaN</td>\n",
       "      <td>NaN</td>\n",
       "    </tr>\n",
       "    <tr>\n",
       "      <th>2</th>\n",
       "      <td>-1</td>\n",
       "      <td>4</td>\n",
       "      <td>2</td>\n",
       "      <td>2.0</td>\n",
       "      <td>5</td>\n",
       "      <td>1</td>\n",
       "      <td>5</td>\n",
       "      <td>1</td>\n",
       "      <td>4</td>\n",
       "      <td>4</td>\n",
       "      <td>...</td>\n",
       "      <td>2.0</td>\n",
       "      <td>3.0</td>\n",
       "      <td>3.0</td>\n",
       "      <td>1.0</td>\n",
       "      <td>3.0</td>\n",
       "      <td>3.0</td>\n",
       "      <td>2.0</td>\n",
       "      <td>3.0</td>\n",
       "      <td>5.0</td>\n",
       "      <td>3.0</td>\n",
       "    </tr>\n",
       "    <tr>\n",
       "      <th>3</th>\n",
       "      <td>1</td>\n",
       "      <td>4</td>\n",
       "      <td>1</td>\n",
       "      <td>2.0</td>\n",
       "      <td>5</td>\n",
       "      <td>1</td>\n",
       "      <td>5</td>\n",
       "      <td>2</td>\n",
       "      <td>1</td>\n",
       "      <td>2</td>\n",
       "      <td>...</td>\n",
       "      <td>3.0</td>\n",
       "      <td>2.0</td>\n",
       "      <td>1.0</td>\n",
       "      <td>0.0</td>\n",
       "      <td>1.0</td>\n",
       "      <td>3.0</td>\n",
       "      <td>4.0</td>\n",
       "      <td>1.0</td>\n",
       "      <td>3.0</td>\n",
       "      <td>1.0</td>\n",
       "    </tr>\n",
       "    <tr>\n",
       "      <th>4</th>\n",
       "      <td>-1</td>\n",
       "      <td>3</td>\n",
       "      <td>1</td>\n",
       "      <td>6.0</td>\n",
       "      <td>3</td>\n",
       "      <td>1</td>\n",
       "      <td>4</td>\n",
       "      <td>4</td>\n",
       "      <td>5</td>\n",
       "      <td>2</td>\n",
       "      <td>...</td>\n",
       "      <td>2.0</td>\n",
       "      <td>4.0</td>\n",
       "      <td>2.0</td>\n",
       "      <td>1.0</td>\n",
       "      <td>2.0</td>\n",
       "      <td>3.0</td>\n",
       "      <td>3.0</td>\n",
       "      <td>3.0</td>\n",
       "      <td>5.0</td>\n",
       "      <td>1.0</td>\n",
       "    </tr>\n",
       "  </tbody>\n",
       "</table>\n",
       "<p>5 rows × 85 columns</p>\n",
       "</div>"
      ],
      "text/plain": [
       "   AGER_TYP  ALTERSKATEGORIE_GROB  ANREDE_KZ  CJT_GESAMTTYP  \\\n",
       "0         2                     4          1            5.0   \n",
       "1        -1                     4          1            NaN   \n",
       "2        -1                     4          2            2.0   \n",
       "3         1                     4          1            2.0   \n",
       "4        -1                     3          1            6.0   \n",
       "\n",
       "   FINANZ_MINIMALIST  FINANZ_SPARER  FINANZ_VORSORGER  FINANZ_ANLEGER  \\\n",
       "0                  5              1                 5               1   \n",
       "1                  5              1                 5               1   \n",
       "2                  5              1                 5               1   \n",
       "3                  5              1                 5               2   \n",
       "4                  3              1                 4               4   \n",
       "\n",
       "   FINANZ_UNAUFFAELLIGER  FINANZ_HAUSBAUER    ...     PLZ8_ANTG1  PLZ8_ANTG2  \\\n",
       "0                      2                 2    ...            3.0         3.0   \n",
       "1                      3                 2    ...            NaN         NaN   \n",
       "2                      4                 4    ...            2.0         3.0   \n",
       "3                      1                 2    ...            3.0         2.0   \n",
       "4                      5                 2    ...            2.0         4.0   \n",
       "\n",
       "   PLZ8_ANTG3  PLZ8_ANTG4  PLZ8_BAUMAX  PLZ8_HHZ  PLZ8_GBZ  ARBEIT  \\\n",
       "0         1.0         0.0          1.0       5.0       5.0     1.0   \n",
       "1         NaN         NaN          NaN       NaN       NaN     NaN   \n",
       "2         3.0         1.0          3.0       3.0       2.0     3.0   \n",
       "3         1.0         0.0          1.0       3.0       4.0     1.0   \n",
       "4         2.0         1.0          2.0       3.0       3.0     3.0   \n",
       "\n",
       "   ORTSGR_KLS9  RELAT_AB  \n",
       "0          2.0       1.0  \n",
       "1          NaN       NaN  \n",
       "2          5.0       3.0  \n",
       "3          3.0       1.0  \n",
       "4          5.0       1.0  \n",
       "\n",
       "[5 rows x 85 columns]"
      ]
     },
     "execution_count": 42,
     "metadata": {},
     "output_type": "execute_result"
    }
   ],
   "source": [
    "# Load in the customer demographics data.\n",
    "customers = pd.read_csv(\"Udacity_CUSTOMERS_Subset.csv\", delimiter = \";\")\n",
    "print(customers.shape)\n",
    "customers.head()"
   ]
  },
  {
   "cell_type": "code",
   "execution_count": 43,
   "metadata": {},
   "outputs": [],
   "source": [
    "# Apply preprocessing, feature transformation, and clustering from the general\n",
    "# demographics onto the customer data, obtaining cluster predictions for the\n",
    "# customer demographics data.\n",
    "clean_customers_data = clean(customers)\n"
   ]
  },
  {
   "cell_type": "code",
   "execution_count": 109,
   "metadata": {},
   "outputs": [
    {
     "name": "stdout",
     "output_type": "stream",
     "text": [
      "OST_WEST_KZ W\n",
      "CAMEO_DEUG_2015 1\n",
      "CAMEO_DEU_2015 1A\n",
      "CAMEO_INTL_2015 13\n"
     ]
    }
   ],
   "source": [
    "for col in clean_customers_data:\n",
    "     for row in range(len(clean_customers_data[col])):\n",
    "            if isinstance(clean_customers_data[col].iloc[row],str):\n",
    "                    print(col,clean_customers_data[col].iloc[row])\n",
    "                    break\n",
    "            "
   ]
  },
  {
   "cell_type": "markdown",
   "metadata": {},
   "source": [
    "output from code for simplicity:\n",
    "OST_WEST_KZ W\n",
    "CAMEO_DEUG_2015 1\n",
    "CAMEO_DEU_2015 1A\n",
    "CAMEO_INTL_2015 13\n"
   ]
  },
  {
   "cell_type": "code",
   "execution_count": 45,
   "metadata": {},
   "outputs": [],
   "source": [
    "clean_customers_data = clean_customers_data.drop(['CAMEO_DEUG_2015','CAMEO_DEU_2015','CAMEO_INTL_2015' ,'OST_WEST_KZ'],axis = 1)\n",
    " "
   ]
  },
  {
   "cell_type": "code",
   "execution_count": 117,
   "metadata": {},
   "outputs": [],
   "source": [
    "\n",
    "# azdias_Cleaned = azdias_cleaned.copy()\n",
    "# imp = Imputer()\n",
    "# azdias_imp = imp.fit(azdias_Cleaned)\n",
    "# azdias_scaled = imp.fit_transform(azdias_Cleaned)\n",
    "# ss = StandardScaler()\n",
    "# azdias_ss = ss.fit(azdias_scaled)\n",
    "# scaled_azdias = ss.fit_transform(azdias_scaled)\n",
    "\n",
    "\n",
    "customer_transformations = pca.fit_transform(ss.fit_transform(imp.fit_transform(clean_customers_data)))"
   ]
  },
  {
   "cell_type": "code",
   "execution_count": 118,
   "metadata": {},
   "outputs": [],
   "source": [
    "customer_pred = myKmeans_fit.predict(customer_transformations)"
   ]
  },
  {
   "cell_type": "markdown",
   "metadata": {},
   "source": [
    "### Step 3.3: Compare Customer Data to Demographics Data\n",
    "\n",
    "At this point, you have clustered data based on demographics of the general population of Germany, and seen how the customer data for a mail-order sales company maps onto those demographic clusters. In this final substep, you will compare the two cluster distributions to see where the strongest customer base for the company is.\n",
    "\n",
    "Consider the proportion of persons in each cluster for the general population, and the proportions for the customers. If we think the company's customer base to be universal, then the cluster assignment proportions should be fairly similar between the two. If there are only particular segments of the population that are interested in the company's products, then we should see a mismatch from one to the other. If there is a higher proportion of persons in a cluster for the customer data compared to the general population (e.g. 5% of persons are assigned to a cluster for the general population, but 15% of the customer data is closest to that cluster's centroid) then that suggests the people in that cluster to be a target audience for the company. On the other hand, the proportion of the data in a cluster being larger in the general population than the customer data (e.g. only 2% of customers closest to a population centroid that captures 6% of the data) suggests that group of persons to be outside of the target demographics.\n",
    "\n",
    "Take a look at the following points in this step:\n",
    "\n",
    "- Compute the proportion of data points in each cluster for the general population and the customer data. Visualizations will be useful here: both for the individual dataset proportions, but also to visualize the ratios in cluster representation between groups. Seaborn's [`countplot()`](https://seaborn.pydata.org/generated/seaborn.countplot.html) or [`barplot()`](https://seaborn.pydata.org/generated/seaborn.barplot.html) function could be handy.\n",
    "  - Recall the analysis you performed in step 1.1.3 of the project, where you separated out certain data points from the dataset if they had more than a specified threshold of missing values. If you found that this group was qualitatively different from the main bulk of the data, you should treat this as an additional data cluster in this analysis. Make sure that you account for the number of data points in this subset, for both the general population and customer datasets, when making your computations!\n",
    "- Which cluster or clusters are overrepresented in the customer dataset compared to the general population? Select at least one such cluster and infer what kind of people might be represented by that cluster. Use the principal component interpretations from step 2.3 or look at additional components to help you make this inference. Alternatively, you can use the `.inverse_transform()` method of the PCA and StandardScaler objects to transform centroids back to the original data space and interpret the retrieved values directly.\n",
    "- Perform a similar investigation for the underrepresented clusters. Which cluster or clusters are underrepresented in the customer dataset compared to the general population, and what kinds of people are typified by these clusters?"
   ]
  },
  {
   "cell_type": "code",
   "execution_count": 139,
   "metadata": {},
   "outputs": [
    {
     "data": {
      "text/plain": [
       "Text(0.5,1,'General Pop (original) : Amount of data per groupings(8) using Kmeans')"
      ]
     },
     "execution_count": 139,
     "metadata": {},
     "output_type": "execute_result"
    },
    {
     "data": {
      "image/png": "[encoded data removed]",
      "text/plain": [
       "<matplotlib.figure.Figure at 0x7f4698be5d68>"
      ]
     },
     "metadata": {
      "needs_background": "light"
     },
     "output_type": "display_data"
    },
    {
     "data": {
      "image/png": "[encoded data removed]",
      "text/plain": [
       "<matplotlib.figure.Figure at 0x7f4698beaf60>"
      ]
     },
     "metadata": {
      "needs_background": "light"
     },
     "output_type": "display_data"
    }
   ],
   "source": [
    "# Compare the proportion of data in each cluster for the customer data to the\n",
    "# proportion of data in each cluster for the general population.\n",
    "\n",
    "plt.figure(1)\n",
    "plt.hist(customer_pred)\n",
    "plt.title('Customer Data: Amount of data per groupings(8) using Kmeans')\n",
    "plt.figure(2)\n",
    "plt.hist(pred_8)\n",
    "plt.title('General Pop (original) : Amount of data per groupings(8) using Kmeans')\n",
    "\n"
   ]
  },
  {
   "cell_type": "markdown",
   "metadata": {},
   "source": [
    "clusters underrepresented in customer data: 0,1,2,3, 5,7\n",
    "\n",
    "clusters overrepresented in customer data: 4"
   ]
  },
  {
   "cell_type": "code",
   "execution_count": 138,
   "metadata": {},
   "outputs": [
    {
     "name": "stdout",
     "output_type": "stream",
     "text": [
      "Cluster 0\n",
      "Positive Values: [('SEMIO_REL', 1.4885606197017662), ('FINANZ_SPARER', 1.3514976459718071), ('FINANZ_UNAUFFAELLIGER', 1.3143748444831536), ('SEMIO_FAM', 1.2185009407663001), ('FINANZ_ANLEGER', 1.2048141834186041), ('SEMIO_PFLICHT', 1.150955398662141), ('CJT_GESAMTTYP', 1.0822631406696375), ('SEMIO_MAT', 0.94134274959508757), ('SEMIO_RAT', 0.78035635705246187), ('SEMIO_TRADV', 0.63186678661635998)] \n",
      "\n",
      "Cluster 1\n",
      "Positive Values: [('SEMIO_REL', 1.4885606197017662), ('FINANZ_SPARER', 1.3514976459718071), ('FINANZ_UNAUFFAELLIGER', 1.3143748444831536), ('SEMIO_FAM', 1.2185009407663001), ('FINANZ_ANLEGER', 1.2048141834186041), ('SEMIO_PFLICHT', 1.150955398662141), ('CJT_GESAMTTYP', 1.0822631406696375), ('SEMIO_MAT', 0.94134274959508757), ('SEMIO_RAT', 0.78035635705246187), ('SEMIO_TRADV', 0.63186678661635998)] \n",
      "\n",
      "Cluster 2\n",
      "Positive Values: [('SEMIO_REL', 1.4885606197017662), ('FINANZ_SPARER', 1.3514976459718071), ('FINANZ_UNAUFFAELLIGER', 1.3143748444831536), ('SEMIO_FAM', 1.2185009407663001), ('FINANZ_ANLEGER', 1.2048141834186041), ('SEMIO_PFLICHT', 1.150955398662141), ('CJT_GESAMTTYP', 1.0822631406696375), ('SEMIO_MAT', 0.94134274959508757), ('SEMIO_RAT', 0.78035635705246187), ('SEMIO_TRADV', 0.63186678661635998)] \n",
      "\n",
      "Cluster 3\n",
      "Positive Values: [('SEMIO_REL', 1.4885606197017662), ('FINANZ_SPARER', 1.3514976459718071), ('FINANZ_UNAUFFAELLIGER', 1.3143748444831536), ('SEMIO_FAM', 1.2185009407663001), ('FINANZ_ANLEGER', 1.2048141834186041), ('SEMIO_PFLICHT', 1.150955398662141), ('CJT_GESAMTTYP', 1.0822631406696375), ('SEMIO_MAT', 0.94134274959508757), ('SEMIO_RAT', 0.78035635705246187), ('SEMIO_TRADV', 0.63186678661635998)] \n",
      "\n",
      "Cluster 5\n",
      "Positive Values: [('SEMIO_REL', 1.4885606197017662), ('FINANZ_SPARER', 1.3514976459718071), ('FINANZ_UNAUFFAELLIGER', 1.3143748444831536), ('SEMIO_FAM', 1.2185009407663001), ('FINANZ_ANLEGER', 1.2048141834186041), ('SEMIO_PFLICHT', 1.150955398662141), ('CJT_GESAMTTYP', 1.0822631406696375), ('SEMIO_MAT', 0.94134274959508757), ('SEMIO_RAT', 0.78035635705246187), ('SEMIO_TRADV', 0.63186678661635998)] \n",
      "\n",
      "Cluster 7\n",
      "Positive Values: [('SEMIO_REL', 1.4885606197017662), ('FINANZ_SPARER', 1.3514976459718071), ('FINANZ_UNAUFFAELLIGER', 1.3143748444831536), ('SEMIO_FAM', 1.2185009407663001), ('FINANZ_ANLEGER', 1.2048141834186041), ('SEMIO_PFLICHT', 1.150955398662141), ('CJT_GESAMTTYP', 1.0822631406696375), ('SEMIO_MAT', 0.94134274959508757), ('SEMIO_RAT', 0.78035635705246187), ('SEMIO_TRADV', 0.63186678661635998)] \n",
      "\n"
     ]
    }
   ],
   "source": [
    "# What kinds of people are part of a cluster that is overrepresented in the\n",
    "# customer data compared to the general population?\n",
    "\n",
    "\n",
    "cluster = [0,1,2,3,5,7]\n",
    "# Get the center most values for all axises that make up a cluster\n",
    "# 35 features means 35 average values for features make up the average person in one cluster\n",
    "#Turn 35 complex reduced features to normal features by reversing pca and standard scalar\n",
    "for cluster_num in cluster:\n",
    "#     customer_transformations = pca.fit_transform(ss.fit_transform(imp.fit_transform(clean_customers_data)))\n",
    "    inverse_transform = ss.inverse_transform(pca.inverse_transform(myKmeans_fit.cluster_centers_))\n",
    "    cluster_features = list(zip(clean_customers_data.columns, inverse_transform[cluster_num]))\n",
    "   \n",
    "    sorted_cluster_features = sorted(cluster_mapping, key = lambda x: x[1], reverse = True)\n",
    "    print('Cluster', cluster_num)\n",
    "    print(\"Positive Values:\",sorted_cluster_features[0:10],\"\\n\")"
   ]
  },
  {
   "cell_type": "markdown",
   "metadata": {},
   "source": [
    "CLUSTER 0 : \n",
    "    \n",
    "EWDICHTE: Density of households per square kilometer\n",
    "ORTSGR_KLS9:Size of community\n",
    "PLZ8_ANTG3: Number of 6-10 family houses in the PLZ8 region\n"
   ]
  },
  {
   "cell_type": "code",
   "execution_count": 135,
   "metadata": {},
   "outputs": [
    {
     "name": "stdout",
     "output_type": "stream",
     "text": [
      "Cluster 4\n",
      "Positive Values: [('SEMIO_REL', 1.4885606197017662), ('FINANZ_SPARER', 1.3514976459718071), ('FINANZ_UNAUFFAELLIGER', 1.3143748444831536), ('SEMIO_FAM', 1.2185009407663001), ('FINANZ_ANLEGER', 1.2048141834186041)] \n",
      "\n"
     ]
    }
   ],
   "source": [
    "# What kinds of people are part of a cluster that is underrepresented in the\n",
    "# customer data compared to the general population?\n",
    "\n",
    "cluster = [4]\n",
    "# Get the center most values for all axises that make up a cluster\n",
    "# 35 features means 35 average values for features make up the average person in one cluster\n",
    "#Turn 35 complex reduced features to normal features by reversing pca and standard scalar\n",
    "for cluster_num in cluster:\n",
    "#     customer_transformations = pca.fit_transform(ss.fit_transform(imp.fit_transform(clean_customers_data)))\n",
    "    inverse_transform = pca.inverse_transform(myKmeans_fit.cluster_centers_)\n",
    "    cluster_features = list(zip(clean_customers_data.columns, inverse_transform[cluster_num]))\n",
    "   \n",
    "    sorted_cluster_features = sorted(cluster_mapping, key = lambda x: x[1], reverse = True)\n",
    "    print('Cluster', cluster_num)\n",
    "    print(\"Positive Values:\",sorted_cluster_features[0:5],\"\\n\")"
   ]
  },
  {
   "cell_type": "markdown",
   "metadata": {},
   "source": [
    "SEMIO_REL: religious\n",
    "FINANZ_SPARER: MONEY SAVER\n",
    "FINANZ_UNAUFFAELLIGER   : INCONSPICUOUS"
   ]
  },
  {
   "cell_type": "markdown",
   "metadata": {},
   "source": [
    "### Discussion 3.3: Compare Customer Data to Demographics Data\n",
    "\n",
    "cluster 0 is more based on density of household/ community size\n",
    "\n",
    "cluster 4 is more based on religious , financially stable communities."
   ]
  },
  {
   "cell_type": "markdown",
   "metadata": {},
   "source": [
    "> Congratulations on making it this far in the project! Before you finish, make sure to check through the entire notebook from top to bottom to make sure that your analysis follows a logical flow and all of your findings are documented in **Discussion** cells. Once you've checked over all of your work, you should export the notebook as an HTML document to submit for evaluation. You can do this from the menu, navigating to **File -> Download as -> HTML (.html)**. You will submit both that document and this notebook for your project submission."
   ]
  },
  {
   "cell_type": "code",
   "execution_count": null,
   "metadata": {},
   "outputs": [],
   "source": []
  }
 ],
 "metadata": {
  "kernelspec": {
   "display_name": "Python 3",
   "language": "python",
   "name": "python3"
  },
  "language_info": {
   "codemirror_mode": {
    "name": "ipython",
    "version": 3
   },
   "file_extension": ".py",
   "mimetype": "text/x-python",
   "name": "python",
   "nbconvert_exporter": "python",
   "pygments_lexer": "ipython3",
   "version": "3.6.3"
  }
 },
 "nbformat": 4,
 "nbformat_minor": 2
}
